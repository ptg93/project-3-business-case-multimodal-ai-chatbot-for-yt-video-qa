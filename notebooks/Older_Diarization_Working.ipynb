{
 "cells": [
  {
   "cell_type": "markdown",
   "id": "9b40d9ea-9c66-4f09-8be1-59689d8c887a",
   "metadata": {},
   "source": [
    "# Import dependencies and environment variables"
   ]
  },
  {
   "cell_type": "code",
   "execution_count": 1,
   "id": "627db171-fcfa-4700-97c3-fa05945f8b18",
   "metadata": {
    "editable": true,
    "slideshow": {
     "slide_type": ""
    },
    "tags": []
   },
   "outputs": [],
   "source": [
    "import os\n",
    "import time\n",
    "from dotenv import load_dotenv\n",
    "\n",
    "import yt_dlp\n",
    "from moviepy.editor import VideoFileClip\n",
    "import whisper\n",
    "from pyannote.audio import Pipeline\n",
    "import torch\n",
    "import ffmpeg\n",
    "\n",
    "from langchain_openai import ChatOpenAI\n",
    "from langchain.vectorstores import Chroma\n",
    "from langchain.embeddings.openai import OpenAIEmbeddings\n",
    "from langchain.schema import Document\n",
    "\n",
    "from langchain.chains import (\n",
    "    create_retrieval_chain,\n",
    "    RetrievalQA,\n",
    ")\n",
    "\n",
    "from langgraph.checkpoint import MemorySaver\n",
    "from langchain_core.messages import AIMessage, BaseMessage, HumanMessage, ToolMessage\n",
    "\n",
    "from langchain.tools.retriever import create_retriever_tool\n",
    "from langchain_core.tools import tool\n",
    "\n",
    "from langgraph.prebuilt import create_react_agent\n",
    "\n",
    "import ipywidgets as widgets\n",
    "from IPython.display import display\n",
    "\n",
    "from langchain.agents import Tool\n",
    "from langsmith.evaluation import evaluate\n",
    "from langchain import hub\n",
    "from langsmith import Client\n",
    "from langchain.schema import HumanMessage\n",
    "import json"
   ]
  },
  {
   "cell_type": "code",
   "execution_count": 2,
   "id": "5a60dbf0-1654-4c28-a786-4df9671abefa",
   "metadata": {},
   "outputs": [],
   "source": [
    "# Load environment variables\n",
    "load_dotenv()\n",
    "OPENAI_API_KEY = os.getenv('OPENAI_API_KEY')\n",
    "LANGCHAIN_API_KEY = os.getenv('LANGCHAIN_API_KEY')\n",
    "ELEVEN_API_KEY = os.getenv('ELEVEN_API_KEY')\n",
    "HF_TOKEN = os.getenv('HF_TOKEN')\n",
    "\n",
    "if not OPENAI_API_KEY:\n",
    "    raise ValueError(\"OPENAI_API_KEY environment variable not set\")\n",
    "elif not LANGCHAIN_API_KEY:\n",
    "    raise ValueError(\"LANGCHAIN_API_KEY environment variable not set\")"
   ]
  },
  {
   "cell_type": "code",
   "execution_count": 3,
   "id": "636d8cb0-0cc6-43e8-b123-61dfd65b0d92",
   "metadata": {},
   "outputs": [],
   "source": [
    "os.environ[\"LANGCHAIN_TRACING_V2\"] = \"true\"\n",
    "os.environ[\"LANGCHAIN_PROJECT\"] = \"Ironhack_Project3\"\n",
    "os.environ[\"LANGCHAIN_ENDPOINT\"]=\"https://api.smith.langchain.com\"\n"
   ]
  },
  {
   "cell_type": "markdown",
   "id": "75267994-ac32-4c25-bca0-ea07c2893e8f",
   "metadata": {},
   "source": [
    "# Video-processing functions"
   ]
  },
  {
   "cell_type": "code",
   "execution_count": 4,
   "id": "82c53ffe-0a0f-4f39-b7cf-d5a0e7dd62d5",
   "metadata": {},
   "outputs": [],
   "source": [
    "# General functions\n",
    "def download_youtube_video(url):\n",
    "    ydl_opts = {\n",
    "        'format': 'mp4',\n",
    "        'outtmpl': 'downloads/video.%(ext)s',\n",
    "        'verbose': True,\n",
    "    }\n",
    "    try:\n",
    "        with yt_dlp.YoutubeDL(ydl_opts) as ydl:\n",
    "            info_dict = ydl.extract_info(url, download=True)\n",
    "            \n",
    "            metadata = {\n",
    "                \"title\": info_dict.get('title', 'video'),\n",
    "                \"id\": info_dict.get('id'),\n",
    "                \"duration\": info_dict.get('duration'),\n",
    "                \"upload_date\": info_dict.get('upload_date'),\n",
    "                \"uploader\": info_dict.get('uploader'),\n",
    "                \"uploader_id\": info_dict.get('uploader_id'),\n",
    "                \"view_count\": info_dict.get('view_count'),\n",
    "                \"like_count\": info_dict.get('like_count'),\n",
    "                \"dislike_count\": info_dict.get('dislike_count'),\n",
    "                \"average_rating\": info_dict.get('average_rating'),\n",
    "                \"age_limit\": info_dict.get('age_limit'),\n",
    "                \"categories\": \", \".join(info_dict.get('categories', [])),\n",
    "                \"tags\": \", \".join(info_dict.get('tags', [])),\n",
    "                \"ext\": info_dict.get('ext'),\n",
    "                \"thumbnail\": info_dict.get('thumbnail'),\n",
    "                \"description\": info_dict.get('description'),\n",
    "                \"channel\": info_dict.get('channel'),\n",
    "                \"channel_id\": info_dict.get('channel_id'),\n",
    "                \"is_live\": info_dict.get('is_live'),\n",
    "                \"release_date\": info_dict.get('release_date'),\n",
    "                \"availability\": info_dict.get('availability')\n",
    "            }\n",
    "            \n",
    "            for key, value in metadata.items():\n",
    "                if value is None:\n",
    "                    metadata[key] = \"Empty\"\n",
    "            \n",
    "            print(f\"Video title: {metadata['title']}\")\n",
    "\n",
    "            video_ext = metadata['ext']\n",
    "            initial_path = os.path.abspath(f'downloads/video.{video_ext}')\n",
    "            if not os.path.isfile(initial_path):\n",
    "                raise FileNotFoundError(f\"Downloaded video file not found: {initial_path}\")\n",
    "\n",
    "            counter = 1\n",
    "            final_path = os.path.abspath(f'downloads/video_{counter}.{video_ext}')\n",
    "            while os.path.isfile(final_path):\n",
    "                counter += 1\n",
    "                final_path = os.path.abspath(f'downloads/video_{counter}.{video_ext}')\n",
    "\n",
    "            os.rename(initial_path, final_path)\n",
    "            print(f\"Downloaded video saved to: {final_path}\")\n",
    "\n",
    "            return final_path, metadata['title'], metadata\n",
    "    except Exception as e:\n",
    "        print(f\"Error downloading video: {e}\")\n",
    "        return None, None, None\n",
    "\n",
    "def extract_audio(video_path):\n",
    "    try:\n",
    "        video = VideoFileClip(video_path)\n",
    "        audio_path = video_path.replace('.mp4', '.wav')\n",
    "        audio_path = os.path.abspath(audio_path)\n",
    "        print(f\"Extracting audio to: {audio_path}\")\n",
    "        video.audio.write_audiofile(audio_path)\n",
    "        if not os.path.isfile(audio_path):\n",
    "            raise FileNotFoundError(f\"Extracted audio file not found: {audio_path}\")\n",
    "        return audio_path\n",
    "    except Exception as e:\n",
    "        print(f\"Error extracting audio: {e}\")\n",
    "        return None\n"
   ]
  },
  {
   "cell_type": "code",
   "execution_count": 5,
   "id": "fa61d20f-2161-4c96-baca-263eec70d6f6",
   "metadata": {},
   "outputs": [],
   "source": [
    "# create_transcription_from_video functions\n",
    "def transcribe_audio(audio_path):\n",
    "    try:\n",
    "        print(f\"Transcribing audio from: {audio_path}\")\n",
    "        if not os.path.isfile(audio_path):\n",
    "            raise FileNotFoundError(f\"Audio file not found: {audio_path}\")\n",
    "        \n",
    "        model = whisper.load_model(\"base\")\n",
    "        result = model.transcribe(audio_path)\n",
    "        print(f\"Transcription completed.\")\n",
    "        return result['text']\n",
    "    except Exception as e:\n",
    "        print(f\"Error transcribing audio: {e}\")\n",
    "        return \"\"\n",
    "\n",
    "def combine_metadata_and_transcription(metadata, transcription):\n",
    "    combined_text = \"Metadata:\\n\"\n",
    "    for key, value in metadata.items():\n",
    "        combined_text += f\"{key}: {value}\\n\"\n",
    "    combined_text += \"\\nTranscription:\\n\" + transcription\n",
    "    return combined_text\n",
    "\n",
    "def create_transcription_from_video(url):\n",
    "    video_path, title, metadata = download_youtube_video(url)\n",
    "    if not video_path:\n",
    "        return None\n",
    "    \n",
    "    audio_path = extract_audio(video_path)\n",
    "    if not audio_path:\n",
    "        return None\n",
    "    \n",
    "    transcription = transcribe_audio(audio_path)\n",
    "    \n",
    "    combined_text = combine_metadata_and_transcription(metadata, transcription)\n",
    "    \n",
    "    document = Document(page_content=combined_text, metadata=metadata)\n",
    "    \n",
    "    # Clean up files\n",
    "    try:\n",
    "        os.remove(video_path)\n",
    "        os.remove(audio_path)\n",
    "    except Exception as e:\n",
    "        print(f\"Error deleting files: {e}\")\n",
    "    \n",
    "    return document"
   ]
  },
  {
   "cell_type": "code",
   "execution_count": 6,
   "id": "2eb9b7da-8577-43d8-834e-de4f0345bd90",
   "metadata": {},
   "outputs": [],
   "source": [
    "# create_diarization_from_video functions\n",
    "def transcribe_audio_with_timestamps(audio_path):\n",
    "    try:\n",
    "        print(f\"Transcribing audio from: {audio_path}\")\n",
    "        if not os.path.isfile(audio_path):\n",
    "            raise FileNotFoundError(f\"Audio file not found: {audio_path}\")\n",
    "        \n",
    "        model = whisper.load_model(\"base\")\n",
    "        result = model.transcribe(audio_path, word_timestamps=True)\n",
    "        print(f\"Transcription completed.\")\n",
    "        return result\n",
    "    except Exception as e:\n",
    "        print(f\"Error transcribing audio: {e}\")\n",
    "        return {}\n",
    "        \n",
    "def get_words_timestamps(result_transcription):\n",
    "    words = {}\n",
    "    word_counter = 0\n",
    "    for segment in result_transcription[\"segments\"]:\n",
    "        for word in segment.get(\"words\", []):\n",
    "            words[f\"word_{word_counter}\"] = {\n",
    "                \"text\": word[\"word\"],\n",
    "                \"start\": word[\"start\"],\n",
    "                \"end\": word[\"end\"],\n",
    "            }\n",
    "            word_counter += 1\n",
    "    return words\n",
    "\n",
    "def words_per_segment(res_transcription, res_diarization, add_buffer=False, fixed_margin=0.5, gap_scale_factor=0.3):\n",
    "    def calculate_dynamic_buffer(idx, segments):\n",
    "        if idx == 0 or idx == len(segments) - 1:\n",
    "            return fixed_margin\n",
    "        previous_end = segments[idx - 1].end\n",
    "        current_start = segments[idx].start\n",
    "        return (current_start - previous_end) * gap_scale_factor\n",
    "\n",
    "    res_trans_dia = {}\n",
    "    segments = list(res_diarization.itersegments())\n",
    "\n",
    "    words = get_words_timestamps(res_transcription)\n",
    "\n",
    "    for idx, (segment, _, speaker) in enumerate(res_diarization.itertracks(yield_label=True)):\n",
    "        buffer_time = calculate_dynamic_buffer(idx, segments) if add_buffer else 0\n",
    "\n",
    "        adjusted_start = max(0, segment.start - buffer_time) if idx != 0 else 0\n",
    "        adjusted_end = segment.end + buffer_time if idx != len(segments) - 1 else segment.end\n",
    "\n",
    "        segment_words = []\n",
    "        for _, word in words.items():\n",
    "            if word[\"start\"] >= adjusted_start and word[\"end\"] <= adjusted_end:\n",
    "                segment_words.append(word[\"text\"])\n",
    "            if word[\"start\"] >= adjusted_end:\n",
    "                break\n",
    "\n",
    "        res_trans_dia[f\"segment_{idx}\"] = {\n",
    "            \"speaker\": speaker,\n",
    "            \"text\": \" \".join(segment_words),\n",
    "            \"start\": adjusted_start,\n",
    "            \"end\": adjusted_end,\n",
    "        }\n",
    "    return res_trans_dia\n",
    "\n",
    "def combine_metadata_transcription_diarization(metadata, transcription, diarization):\n",
    "    combined_text = \"Metadata:\\n\"\n",
    "    for key, value in metadata.items():\n",
    "        combined_text += f\"{key}: {value}\\n\"\n",
    "    combined_text += \"\\nDiarization:\\n\"\n",
    "    for segment in diarization.values():\n",
    "        combined_text += f\"Speaker {segment['speaker']} [{segment['start']:.2f} - {segment['end']:.2f}]: {segment['text']}\\n\"\n",
    "    return combined_text\n",
    "\n",
    "def create_diarization_from_video(url):\n",
    "    video_path, title, metadata = download_youtube_video(url)\n",
    "    if not video_path:\n",
    "        return None\n",
    "    \n",
    "    audio_path = extract_audio(video_path)\n",
    "    if not audio_path:\n",
    "        return None\n",
    "    \n",
    "    transcription_result = transcribe_audio_with_timestamps(audio_path)\n",
    "    if not transcription_result:\n",
    "        return None\n",
    "    \n",
    "    # Initialize Pyannote pipeline for speaker diarization\n",
    "    pipeline = Pipeline.from_pretrained(\"pyannote/speaker-diarization-3.1\", use_auth_token=os.getenv(\"HF_TOKEN\"))\n",
    "    \n",
    "    # Check if CUDA is available and use it\n",
    "    if torch.cuda.is_available():\n",
    "        pipeline.to(torch.device(\"cuda\"))\n",
    "        print(\"Using CUDA for Pyannote diarization\")\n",
    "    \n",
    "    diarization_result = pipeline(audio_path)\n",
    "    \n",
    "    # Process diarization and transcription results\n",
    "    final_result = words_per_segment(transcription_result, diarization_result)\n",
    "    \n",
    "    combined_text = combine_metadata_transcription_diarization(metadata, transcription_result, final_result)\n",
    "    \n",
    "    document = Document(page_content=combined_text, metadata=metadata)\n",
    "    \n",
    "    # Clean up files\n",
    "    try:\n",
    "        os.remove(video_path)\n",
    "        os.remove(audio_path)\n",
    "    except Exception as e:\n",
    "        print(f\"Error deleting files: {e}\")\n",
    "    \n",
    "    return document\n"
   ]
  },
  {
   "cell_type": "markdown",
   "id": "d2e859af-13f0-4aeb-9f6e-21d5a8fae1c6",
   "metadata": {},
   "source": [
    "# Processing video"
   ]
  },
  {
   "cell_type": "code",
   "execution_count": 7,
   "id": "3f4c999c-61f2-4626-b7f8-734a98f75e93",
   "metadata": {
    "scrolled": true
   },
   "outputs": [
    {
     "name": "stderr",
     "output_type": "stream",
     "text": [
      "[debug] Encodings: locale cp65001, fs utf-8, pref cp65001, out UTF-8 (No VT), error UTF-8 (No VT), screen UTF-8 (No VT)\n",
      "[debug] yt-dlp version stable@2024.07.09 from yt-dlp/yt-dlp [7ead7332a] (pip) API\n",
      "[debug] params: {'format': 'mp4', 'outtmpl': 'downloads/video.%(ext)s', 'verbose': True, 'compat_opts': set(), 'http_headers': {'User-Agent': 'Mozilla/5.0 (Windows NT 10.0; Win64; x64) AppleWebKit/537.36 (KHTML, like Gecko) Chrome/94.0.4606.81 Safari/537.36', 'Accept': 'text/html,application/xhtml+xml,application/xml;q=0.9,*/*;q=0.8', 'Accept-Language': 'en-us,en;q=0.5', 'Sec-Fetch-Mode': 'navigate'}}\n",
      "[debug] Python 3.9.19 (CPython AMD64 64bit) - Windows-10-10.0.19045-SP0 (OpenSSL 3.3.1 4 Jun 2024)\n",
      "[debug] exe versions: ffmpeg 7.0.1 (setts), ffprobe 7.0.1\n",
      "[debug] Optional libraries: Cryptodome-3.20.0, brotli-1.0.9, certifi-2024.07.04, mutagen-1.47.0, requests-2.32.3, sqlite3-3.45.3, urllib3-1.26.19, websockets-12.0\n",
      "[debug] Proxy map: {}\n",
      "[debug] Request Handlers: urllib, requests, websockets\n",
      "[debug] Loaded 1834 extractors\n"
     ]
    },
    {
     "name": "stdout",
     "output_type": "stream",
     "text": [
      "[youtube] Extracting URL: https://www.youtube.com/watch?v=N3rdQazLZPA\n",
      "[youtube] N3rdQazLZPA: Downloading webpage\n",
      "[youtube] N3rdQazLZPA: Downloading ios player API JSON\n"
     ]
    },
    {
     "name": "stderr",
     "output_type": "stream",
     "text": [
      "[debug] Loading youtube-nsig.d60b0ef9 from cache\n",
      "[debug] [youtube] Decrypted nsig Zd0ydtIKeLOA8oOf => BzqFtkbsUjr6Fg\n",
      "[debug] Loading youtube-nsig.d60b0ef9 from cache\n",
      "[debug] [youtube] Decrypted nsig _ZO0p_Rqc3R14sAC => 1xDOLi_QO-BfpA\n"
     ]
    },
    {
     "name": "stdout",
     "output_type": "stream",
     "text": [
      "[youtube] N3rdQazLZPA: Downloading m3u8 information\n"
     ]
    },
    {
     "name": "stderr",
     "output_type": "stream",
     "text": [
      "[debug] Sort order given by extractor: quality, res, fps, hdr:12, source, vcodec:vp9.2, channels, acodec, lang, proto\n",
      "[debug] Formats sorted by: hasvid, ie_pref, quality, res, fps, hdr:12(7), source, vcodec:vp9.2(10), channels, acodec, lang, proto, size, br, asr, vext, aext, hasaud, id\n"
     ]
    },
    {
     "name": "stdout",
     "output_type": "stream",
     "text": [
      "[info] N3rdQazLZPA: Downloading 1 format(s): 18\n"
     ]
    },
    {
     "name": "stderr",
     "output_type": "stream",
     "text": [
      "[debug] Invoking http downloader on \"https://rr1---sn-h5nhv8pa-h5qs.googlevideo.com/videoplayback?expire=1721429584&ei=8JmaZrScMf_Gp-oPlJK26Aw&ip=66.81.167.174&id=o-AKGGZ5_kkhWgp0f0B0WUwdl2gZ-zbLm2qBF8emxtnSoI&itag=18&source=youtube&requiressl=yes&xpc=EgVo2aDSNQ%3D%3D&mh=2w&mm=31%2C29&mn=sn-h5nhv8pa-h5qs%2Csn-h5q7knee&ms=au%2Crdu&mv=m&mvi=1&pl=21&pcm2=no&initcwndbps=1055000&bui=AXc671L-EdQDwdjahKNLLqDrQstgB49670ZVHTFIYqbGFvDRgSvoet6gUoD2U5QkElcVGNVdfhX53BKw&spc=NO7bAUlA8qIWTn_IUKW24WBkVxjrUWnJLiePyjMW2SGuZ5RC4sbIG3DuUppx07Y&vprv=1&svpuc=1&mime=video%2Fmp4&ns=QoERRQeLcz3Q6tFRZlrWyjIQ&rqh=1&gir=yes&clen=41267042&ratebypass=yes&dur=2003.928&lmt=1719559448634554&mt=1721407734&fvip=1&c=WEB&sefc=1&txp=5438434&n=BzqFtkbsUjr6Fg&sparams=expire%2Cei%2Cip%2Cid%2Citag%2Csource%2Crequiressl%2Cxpc%2Cpcm2%2Cbui%2Cspc%2Cvprv%2Csvpuc%2Cmime%2Cns%2Crqh%2Cgir%2Cclen%2Cratebypass%2Cdur%2Clmt&sig=AJfQdSswRQIgPl7p7U7ft9wEGa6PWrk_ibVDunwBohrGbat_EPzDkYECIQCD9ssCa1VFnj5xRtuDcSB1gsZQFABnv1B3pOKzLth9mw%3D%3D&lsparams=mh%2Cmm%2Cmn%2Cms%2Cmv%2Cmvi%2Cpl%2Cinitcwndbps&lsig=AHlkHjAwRQIgLp94H-OKhnaNQE_UDYdoTB7xq1O-Ed8XVVh0sj5b1IkCIQCqrnTa0kGvSOLNhcvqMxky-N9IM_DKgW-r_cvZNo09bQ%3D%3D\"\n",
      "[debug] File locking is not supported. Proceeding without locking\n"
     ]
    },
    {
     "name": "stdout",
     "output_type": "stream",
     "text": [
      "[download] Destination: downloads\\video.mp4\n",
      "[download] 100% of   39.36MiB in 00:00:03 at 12.06MiB/s    \n",
      "Video title: Every Unreleased Codex in 10th Edition and What Models They Should Get\n",
      "Downloaded video saved to: C:\\Users\\Pedro\\Documents\\Ironhack\\NinthWeek\\Project_3\\project-3-business-case-multimodal-ai-chatbot-for-yt-video-qa\\notebooks\\downloads\\video_1.mp4\n",
      "Extracting audio to: C:\\Users\\Pedro\\Documents\\Ironhack\\NinthWeek\\Project_3\\project-3-business-case-multimodal-ai-chatbot-for-yt-video-qa\\notebooks\\downloads\\video_1.wav\n",
      "MoviePy - Writing audio in C:\\Users\\Pedro\\Documents\\Ironhack\\NinthWeek\\Project_3\\project-3-business-case-multimodal-ai-chatbot-for-yt-video-qa\\notebooks\\downloads\\video_1.wav\n"
     ]
    },
    {
     "name": "stderr",
     "output_type": "stream",
     "text": [
      "                                                                        \r"
     ]
    },
    {
     "name": "stdout",
     "output_type": "stream",
     "text": [
      "MoviePy - Done.\n",
      "Transcribing audio from: C:\\Users\\Pedro\\Documents\\Ironhack\\NinthWeek\\Project_3\\project-3-business-case-multimodal-ai-chatbot-for-yt-video-qa\\notebooks\\downloads\\video_1.wav\n",
      "Transcription completed.\n",
      "Document created successfully:\n",
      "page_content='Metadata:\n",
      "title: Every Unreleased Codex in 10th Edition and What Models They Should Get\n",
      "id: N3rdQazLZPA\n",
      "duration: 2004\n",
      "upload_date: 20240627\n",
      "uploader: Auspex Tactics\n",
      "uploader_id: @auspextactics\n",
      "view_count: 66292\n",
      "like_count: 1984\n",
      "dislike_count: Empty\n",
      "average_rating: Empty\n",
      "age_limit: 0\n",
      "categories: Gaming\n",
      "tags: warhammer 40k, 10th edition, codex, miniature, releases, predictions, warhammer, 40K, news, rumours, leaks, reveal, warhammer community, games workshop, review, preview, prices, release date, warhammer 40000, space marines, GW\n",
      "ext: mp4\n",
      "thumbnail: https://i.ytimg.com/vi_webp/N3rdQazLZPA/maxresdefault.webp\n",
      "description: Let's talk miniature releases for the Warhammer 40K armies, what models are they likely to receive, and what do they most need?\n",
      "\n",
      "-- Patreon Page -- \n",
      "https://www.patreon.com/auspex \n",
      "-- SubscribeStar --\n",
      "https://www.subscribestar.com/auspex\n",
      "\n",
      "-- Buy Warhammer 40K miniatures here --\n",
      "UK - Element Games: http://elementgames.co.uk/?d=10426 \n",
      "USA - Wargame Portal - https://wargameportal.com/?ref=auspextactics_wgp\n",
      "or Amazon also in the USA - https://amzn.to/3QWzuIC\n",
      "Australia - Gap Games - https://bit.ly/3N8VBtj\n",
      "Canada - Fenris Workshop - https://shop.fenrisworkshop.com/auspextactics\n",
      "These are affiliate links that also hep to support Auspex Tactics videos, though cost no extra to use.\n",
      "\n",
      "Iron Enforcers Miniatures - https://thangs.com/designer/AcrossTheLegions\n",
      "3D Printers from Elegoo Here - https://shareasale.com/r.cfm?b=1680329&u=3447346&m=104244&urllink=&afftrack=\n",
      "Auspex Tactics Merch - https://wargameportal.com/collections/merch-auspex-tactics/?ref=auspextactics_wgp\n",
      "\n",
      "-- Social Media --\n",
      "Facebook: https://www.facebook.com/Auspex-Tactics-103129707773165 \n",
      "Discord: https://discord.gg/RrvQurN \n",
      "\n",
      "-- Subscribe to Auspex Tactics --\n",
      "https://tinyurl.com/yc69mguy\n",
      "\n",
      "0:00 Intro\n",
      "2:05 Grey Knights\n",
      "3:43 Agents of the Imperium\n",
      "5:15 Thousand Sons\n",
      "6:58 Astra Militarum\n",
      "9:55 Knights\n",
      "13:02 Deathwatch\n",
      "14:10 Death Guard\n",
      "16:13 World Eaters\n",
      "17:54 Leagues of Votann\n",
      "19:44 Blood Angels\n",
      "22:09 Emperor's Children\n",
      "24:01 Chaos Daemons\n",
      "25:43 Drukhari\n",
      "27:21 Space Wolves\n",
      "28:45 Aeldari\n",
      "31:14 Black Templars\n",
      "32:22 Outro\n",
      "channel: Auspex Tactics\n",
      "channel_id: UC6Gco9PWxmJmJ5CqfbChuiQ\n",
      "is_live: False\n",
      "release_date: Empty\n",
      "availability: public\n",
      "\n",
      "Transcription:\n",
      " So if GamesWorkshop sticks to their normal release schedule, then for every Warhammer 40k Codec that comes out, there should be a corresponding minute to release. Let's talk through all the Codec to come in 10th edition, what the faction should get, and perhaps what they're most likely to. Hello and welcome back to our Special Effects Tactics, where today we're talking Codec to our model releases, what sort of cool stuff people might like to see from GamesWorkshop's future releases in 10th and any hints and things that we might have already had. So far in 10th edition, around about a year after launch, we've had 11 out of the 26 Codec's in Warhammer 40k come out. For the most part, GamesWorkshop seems to have tailored these to some of the more popular and well played factions in a game, starting off with Spacebarines and Tyrannes, and at Mech and Necrons, Kastodius Dark Angels, Tao Orcs and Chaos following in Spring, and then recently, Beef Sisters and Gene Stealers Cult, so far, every single one of those has come with at least one miniature, and by the way, the GamesWorkshop normally tend to do things, it's usually just one or two characters who are actually going for a big faction release wave that seems to come out in a launch battle for Spock's these days. The launch factions of the edition always get one, so Spacebarines and Tyrannes got one, and then since then, we've had Dark Angels and Tao Empire with their new Crute range, otherwise the Vest of them mostly they just got one token character to add to the ranks there, because Tao Orcs got their shield captain and the Abmech got their Stealt sniper. Occasionally a few factions have got more than one character release, such as Necrons and Chaos. That seems to be the general pattern of more normal Warhammer 40k releases with things like Kill Team and Spring calling on top, but it does mean it's kind of intriguing, thinking about what's going to come for the Vest of 10th edition, another 15ish odd codex books, depending on if any consolidated or we get only new ones like Emperor's Children, and this one I just wanted to revisit a few possibilities as to things they could do with their factions when we get round to them. Let's go through each army and talk about what they might want and what they might most likely be receiving, and if Games Workshop had given us any hints or clues to take a look at that at the same time. Jummy right in, we have the Grey Knights, the Knights of Titan could go one of two ways, I feel like they're certainly an army where it's either going to be a total range refresh or just something like a single character update, and I guess it is that maybe similar to the Black Templars there might not be all that much in between. The character updates to do feel like there's a few really obvious ones, Cardoldrego himself in a Resenfine cast miniature, and Brother Captain Stern seems like a very obvious miniature to transition into a fancy plastic kit, though maybe for all the possibilities beyond that perhaps a generic grandmaster or Brother Captain in plastic could be kind of nice, that must be at least kind of high on the priority list for a more standard HQ. Games Workshop do feel like they've been going through and filling in a few gaps like that with things like a standard more multi-part chaos load or custodial shield captain outside of infantry box sets that they can build. Otherwise it'd be kind of surprised if we got anything too weird and different in terms of miniatures until they'd read on the core range once more. Terminators have a new scaling so it seems very likely that they'll have them upscaled at some point with the Terminator impaliting kits and similar for their Rankin files, type space rings with things like their strike marines. I guess that they'd probably acquire the primary scaling, but maybe not the actual primary styling, as stickers first born as Castellan Crowdys. I wouldn't be too surprised if they'd read the dreadnite though though I feel like maybe that's slightly lower down the priority list. That was definitely always been a miniature that devised opinion since it came out. I feel like there might be a few players out there who might not be against them having another go and read during the styling a bit. It didn't seem to have been any big rumours about a grain-out release coming up so maybe we'll just get a character release this edition though we'll wait and see. Next up I'm sticking with inquisitorial things we've got the Imperial Agents. They've had their own index cards at the start of the edition and most people are expecting them to get a book all of their own, particularly as we saw a bunch of pages leaked from a printing warehouse somewhere. A lot of people are predicting that mystery codex to wind up being Imperial Agents. Colating rules like the assassins and quizzitors, and voids men at arms and things. For ministers for them they do feel like there's a few obvious choices. Mr. Cochias had a teaser segment at the end of arcs of Omen which was a book series that was heavily ties to miniature releases and I feel like he's kind of odds on to get a plastic release at some point in the edition. Otherwise there's inquisitor karmas of as well and maybe you could redo a generic inquisitor or even just re-release that arasmas cut of all this miniature that they had. It feels like he'd do quite well as a more standard inquisitor. I was kind of a shame that he was a limited edition one way briefly came out and then went away. Otherwise could do things like inquisitorial stormtroopers or maybe do a unit of crusaders which have often been indifferent Imperial armies like guard or sisters will be nice to have a full unit of them with their thwarted shields and other of those feel like they could be kind of fun for a kill team release if they've answered it. Otherwise there was also this preacher spotted in the rumor engine carrying the sort of ironbound skull in a box that's similar to an old inquisitor scale miniature. Not sure if that's anything to do with Imperial Asians or whether or not it could be a guard creature or maybe something from necrum under perhaps. I guess we'll wait and see on that front. Next up we've got the thousand sons who haven't had any sort of major release in absolutely ages since their range was first established. The only actual miniature that was added to it outside of the moderneric kale space marine thing is it's the infernal master model and even he was essentially just a different sort of flavour and fond source was sculpt and I'll give you that the rest of their range is held up pretty well. I think their unit choice just needs expanding a bit maybe a few more actual thousand sons to fast on the battle line beyond just garabacol terminators and rubric marines. Currently they feel like the only two core squads outside of sorcerers and characters carrying the spirit of the army. The things on the thousand sons wish list have often seen things like mele rubrics of some sort. I can't help but think there's something like a combination of spears and shields would look rather awesome. You could maybe have some heavy weapon or have it style rubrics perhaps a soul reaper canons. Maybe a unique psychic dreadnought though I guess at least whenever their book does come out they'll likely have their combat patrol reimagined and that could definitely be a positive of them with a few few other zangos and more rubit marines in it's given recent lore and a couple of room ranger pictures though people are strongly suspecting that they're going to get some sort of demon engine or tomato type thing. They were really quite clear illusions to them in current warhammer 40k lore teased in a white dwarf operating within the pariah nexus with the assistance of those and there's really some possibility that the room ranger pictures here could be that miniature. They're definitely not confirmed and it could be something else for necromander or something completely different. It does sound like they're odd on for those automata though and if so that kind of implies that they might get a few units and an actual release wave type thing rather than just a single character so might be a good addition for the thousand sons if they're lucky. Next up we have the astramilitarum which are the most techs and follow the army that hasn't had a codex release yet. In general there's been a lot of speculation that guard are going to be getting another fairly major release wave to follow their last one for a few different reasons. It could be one reason why their codex is coming later on again given that they've had a release wave of models in the not too distant past so games workshop likely want to space the matter back as much as possible as additions would have allowed. There've been some guard room ranger such as this minefield one and this banner one which look really quite specific and there have been a few more that look potentially guard beyond that and games workshop do seem to have a bit of a trend of if you get one major release in the last edition and you might well follow up with a second one in the next one often going to additions in their time in terms of big releases. Something's like chaos and orcs have followed that trend for options for guard units to release. There's a ridiculous amount of choice that they could do cast and jungle fires as being crying out for an update that's at least similar to their command squad for a long long time now. They do feel like perhaps some of the more embarrassing models that games workshop still selling after it's being kind of clear that they needed updates for a good decade or more. The rattlings would be nice to have in plastic. Coma's aeric is rumoured dead but I feel like there wouldn't be any resistance at all if he turned up again ready to take the fight to the orcs once more. Death Riders of Krieg seem possible to come over to plastic at some point given how popular they are in forward world plus games workshop seems to have been removing just about anything forward world that isn't a super heavy from 40k so literally anything else that's a forward world unit for the guard would be handy to have ported over but feel like realistically not much is going to. There's plenty of lost regiments that could be fun as a kill team style kit similar to the Kriegsman bellhands or Vosterones would be really nice to see even if they were upgrades fruit hyperfares. They could do big artillery carriages similar to forward world maybe upscale versions of the field ordnance guns. You could bring that the Toros Venator which they've done for Necrum under. The guard would definitely welcome that back. Elysians could come out as a release. I do seem happy to do single kits for regiments like the Atill and Roth Riders and they feel like they could be equivalent or maybe get some aeronautica imperial is on the go. Maybe things like a lightning or thunderbolt fighter. They need a pretty massive list of updates to be honest. If they had a mind too they could also go new. Guard bikers of some point seem like it's almost as surprised that they haven't had a unit like that at some point and maybe jump packs of some kind if they're feeling fancy. Any could bring back things like special weapons, wards, conscripts or veterans as well and if those could theoretically have their own kit if they wanted. I'm sure plenty of people would welcome them returning to the roster. Those options for guard in any case. Hopefully the get a fair few bits of that list ticked off whenever the release comes out. There's him on's on to get a few kits come out. I'll be interested to find out what this banner and minefield marker wind up being though. I kind of wonder if the minefield and the sandbags and things might either be part of a particular big character scenic base or possibly something like an emplacement for an artillery carriage. Perhaps for the nights both imperial and chaos seems at least kind of likely that they might do a dual release of the code actors at the same time as they did in the last edition. One of the recent release trends for them has been getting the 412 version to the nights released in plastic but with an aim at horror serasy. We've had three of the Serastos class chassis is coming out. There's only seems very likely that they've gone for the other 412 variants after that. They still got the Serastos atropos and then also the Questor Starrix and McGherrah, the Armageddon Moirax. I kind of wonder if they'd ever go as far as making a plasticicastos or porphyryon. I'm not sure if that might be getting out of the scope of regular games workshop plastics though. Seems like there's some chance they'd leave that resin. I feel like it will be really nice if games workshop just included the data sheets for the 412 nights in the core codecs and just gave us some safety that they'd be part of the range going forward. It seems to like to keep their game modes as separate as possible and just really hope they don't do what they did to the space reen and chaos things that were horror serasy predominant and just locked them out to that setting besides legends. Otherwise besides the 412 night releases, maybe for 40k expanding the Armageddon kits to mirror the chaos kit or these may be mirror in principle even if it's not exactly the same would be kind of fun. Perhaps having parts for a dedicated melee variant or perhaps a gatling gun arm could be kind of nice. Perhaps another option could be something like a psychic knight chassis, maybe a bit of a parallel wizard sort of role as opposed to the film magic and warp storms of the abominant. For the chaos knight perhaps a unique version of the domino sword tyrant actually with chaos symbols and iconography would be kind of nice or I guess they could farm out another uphoring kit. Perhaps give yet another upgrade frame into the same one that makes the abominant, the rampager and the desicrator if they did so and that would mirror the imperial variants where they basically had their quest stories kit two different times, the first one with the warden and gallant type things and then the perceptor and canus wrecks. Otherwise entirely possible that at some point they could come out with an entirely new class of knights, maybe something between the armager and the quest stories wait seems like it could be a gat they could go for or something else with an unexpected in a different sort of theme of combat, maybe a heavily shielded and armoured siege knight perhaps or something with some big jet engines like a jump armager or something just completely wild speculation on my part there. I do wonder if they might ever go the route of adding a sort of battle infantryman at some point. I guess part of the attraction to them is the eclectic and entire army of big stompy walkers. I feel like some feudal knight world serfs would be kind of awesome to see in 40k styling there, whether they're more chivalric and imperial led or some kind of twisted dark met cultist on the chaos site, both imperial and chaos do tend to wind up using loads of allies in competitive play, it seems like it would be a kind of fun thing if they had some more on-brand people to do grunt work like hold objectives. Also possibilities, I'd hope that the imperial knights might get at least some sort of release this time round given that they were one of the only factions that didn't really get anything in knight addition, at least when their codecs released anyway, they have been getting the Serastas ones as mentioned. For some space ruins the death watcher may be on some slightly shaky ground at the moment, people have been rumoring that they might be folded into agents of the Imperium or otherwise reinterpreted, certainly wouldn't be great news for them if they in any way lose full faction support for people who've clented their armies, but feels like they might be in the slight danger zone like Harlequin's were before, they are one of 40k's least played armies. That's all the speculation at this point, but I can see why people are being concerned given that they've basically had zero full scale primaris model releases and games world chop seem to have been intentionally neglect for of the primaris kill teams that they've got passing them over twice in a row for two different balance updates, maybe implying that they're not trying to emphasise them at the moment. The central fear mongri aside though, I feel like a primaris special and kill team of some sort would be pretty awesome for the death watch, you could actually have a kids that represents the kind of pleasing mix of different armor marks and things that can fight side by side, will be kind of fun to have a dedicated kit for that, adding a lot more theme that then the primaris space ruins get currently in terms of death watch miniatures, otherwise I guess if you're going into a dual character releases, maybe the obvious choice is the watch master that we as a kind of recent miniature. Next talk for the sons of Mortarian, we have the death guard, they're doing a bit better than they are the rival deity legions such as thousands on world eaters right now, they did get quite a lot of kits and love in 8th edition when they were the primary antagonist faction to the new primaris. If they just get a standard character release then perhaps something like a standard death guard lord on foot of some sort might be a reasonable addition to the range, they're pretty well saturated for all manner of cheap support characters, pretty does seem odd that they don't have one and just have to go for the standard chaos lord kits for that, so it feels like that one could be a fairly easy win for a release that makes sense, otherwise I feel like the best bet for units they might want could be to look at the other deity legions, having some unique possessed like the world eaters, so maybe a nirgal equivalent of 8 bound perhaps could be fun, you could do something similar to those rather creepy galopox infected miniatures that people tend to like quite a lot, not a thousand sons, it's be kind of nice to see play marines have other roles in the codecs other than just rank and pile troops, you could definitely do have a x or maybe some sort of rapture equivalent born aloft on some massive jump packs perhaps, I feel like a unique hell brute or dread knought will be rather awesome that they don't seem to have gone that way too much for chaos recently, and otherwise I feel like there'd be a lot of support for them releasing the original board of contagion individually, the one that came out in dark Imperium, the Lord Felthius wanted is a bit of a curious miniature release, he does look a little bit on the cartoony side, otherwise maybe on the wish list might be re-boxing paperines to actually have a set of ten of them, they did have that play marine reinforcements thing that could be quite nice to have included in the same box, and like the thousand sons are strongly suspect that they're an army that'll be looking forward to getting their hands on their combat patrol, it'll be very nice to see a few less play bearers and maybe either some terminators or perhaps a light demon engine like a blight haul or perhaps, and maybe not quite so chez on behold as the start collecting box, I will be kind of surprised that they get any enormous release though given that they're doing a fair bit better than the thousand sons and world eaters for unique kits right now. Talking of the world eaters, they've seen there enough guarantees to be getting a fairly major release in tent edition, it kind of clearly looks like they got around about half their range towards the end of night edition and a release that felt a little bit unusual and rushed, the night edition Colette almost felt like a bit of a reverse engineering of tent edition rules, it should be really nice to see what else they get, and I'm sure that we'll get at least a fair few kits for them this time around, one of the things that basically everyone was expecting but turned out not to turn up were the red butcher terminators, maybe there might be by different name in 40k, but given how we've got one style of terminators for thousand sons and two different ones for deathguard, they was like world eaters should have some of their own, I still say the odds on this time round, Berserker Joggenaut cavalry seems like it's probably going to be a thing, it looked like there were some teased in art and it might make sense to have them to go alongside Lord Invercartus and the Lord on Joggenauts, Berserker surgeon seems to be near enough confirmed given that it was just crazily heavily teased in lore last time round, lots of references for them creating the eight bounds and maintaining the butcher's nails, I just can't imagine that they'd have them so front and central if there wasn't going to be a miniature for them, again like the deathguard it's really weird for them not to have an actual standard Lord on foot, they can't even feel the standard Chaos Base Marine one unlike the deathguard, so Chaos Lords in Power Armor or maybe Terminator Armor for the world eaters would be nice, I think something I'd really like to see as well will be some sort of Corn 8 Demon engine, maybe taking some notes from the Corn Bloods lauder of the 412 range, I think a lot demon engine of Corn would be really quite fun to have charge up and do some heavy lifting, whatever that releases though I feel like it's kind of likely they're going to be running up to you really quite quickly and hitting you hard with a chain axe. As the author army that came out in night edition and felt like they didn't really get their entire range, the leaks of Botan again are heavily rumoured to be getting a good release wave this time round too, I felt like the amount of kits that they got was at least fairly good in night edition, a bit more impressive in number than the world eaters anyway even if they did get their primark, and since then we have had one expansion to the army in the Hurnkin Yage's, quite nicely fearing the infiltrate role with their Kelteam release, given that the leaks are a fairly truly new faction in Warhammer 40k, taking lots of notes from the squats but then heavily reinterpreting them, I do feel like they've got fairly free reign as to where they go from them from here, I think some sort of walker unit feels like it to be well within their sort of scope and theming, some came in crude mech suits would be pretty nice, I feel like they could certainly be an army where they maybe have a big robot of some sort, maybe the equivalent of the Admet Castellan robots, certainly seems on theme with their ancestor cause guiding their society, otherwise feels like we've probably seen a teaser of their jump packs given that we've got one in the Harthkin Salverge's Kelteam that we had, I'd be kind of surprised if we don't get to use a jump pack like this, given how they've designed them and everything, looks like plasma racks and bolt pistols could be the way they're armed unless they're decides to re-kit them for the actual jump pack release, otherwise in the codecs there were a few pictures of something that looks like a, leagues of voter and flyer or speeder type thing, you can see one up here with the dual wings and the three engines, just looking at that, it looks like it could perhaps be something somewhat equivalent, perhaps a league of voter equivalent of the space for install speeders, that could be kind of nice, in case I feel like there's probably going to be a fair few things that they surprise us with with the next vote handle release, simply like there's lots of directions that they could go, they'll have a feeling that probably land train isn't going to be one of them, I feel like the closest that we're getting to that is the Hekaton land fortress, next up for the sons of sanguines we have the blood angels, they've been rumoured to have at least a somewhat big release this edition, it does feel like the setup for them has been maybe kind of similar to the dark angels, we've had generic terminators released at the start of the edition and then they got their unique version in the deathwing nights, it feels like by having generic jump inventory released at the start of the edition in the jump in to seses, there's now a bit more room for the blood angels creating fancy versions of them with their sanguines reguard or death company, there's also a rather interesting set of flowing parchment that were in a room-rengin that look really quite similar to the sanguines ones, definitely isn't enough to confirm that but certainly seems possible given that we haven't seen any for the storm cast yet and it didn't turn out to be the sisters jump canoness, it doesn't look like the other sisters miniature with the cherub sensor bearers, if they follow the pattern of the dark angels then it might be that game's workshop gives them some of their new kits this edition and then seemingly keep some of them in reserve till the next one, the dark angels seemingly got their deathwing update this edition with the deathwing nights and belial plus a couple of more generic releases in Asma Dyer and some inner circle companions, now they're still clearly more to do for the dark angels as the raven wing won't touch I guess that they'll be next time, it games workshop did do something similar with the blood angels it might mean that we get some but not all their miniatures this edition and then some of the rest are saved until 11th perhaps, certainly high on the wish list though would be sanguines reguard and death company, both of which seem pretty guarantees to get new releases, the sanguines reguard would be pretty awesome to have at primary scale and the death company would be nice not just to be equipped with indecisive chainsaws but get some fancy power fists and power weapons and things then the full holcast of characters that they could do with refreshes for, the marty is asteroth, the sanguinar brother corbulo and maybe a generic sanguinary priest as well, I'd guess tyco wouldn't be getting an update given that he's lord dead for a long time now, there wouldn't be quite as optimistic with their unique dreadnoughts or vehicles making the jump, the battle predator and the furio so dreadnought sort of feel like they already have kind of prarirus equivalence in the gladiator Reaper and the brutalist dreadnoughts, maybe we might see an upgrade spru that give them a little bit of blood angels flavour, black templars and dark angels both got at least fairly mete upgrade sprues to go alongside their launch, overall those are in the interest to see what blood angels could come out with in 10th, I certainly be interested in some new sanguinary guard myself, next up we've got the codex that isn't released yet in the Emperor's children, games where it's also certainly hasn't officially announced this yet but they basically soft confirmed it given that they removed Emperor's children from the core kill space marine codex in exactly the same way as they did so with world eaters back in night edition and due to that just seems like they could follow a very similar sort of path, if they're going to do a big end of edition campaign like arcs of omen seems kind of likely that full grim could feature in that in some way, if that turns out to be the case then maybe it might drop at a similar sort of time as world eaters did in night edition, Emperor's children some thing has seemed absolutely guarantees though some are maybe a little bit more speculative, if they were releasing them as their own thing their new noise marines, Lucius the Eternal and full grim himself all seem pretty much absolutely certain, it'd be really quite nice to have the last of the cult space marines finally released for the actual modern era, they're interesting to see exactly what they do differently to four grims, transfigured sculpt in the Horace heresy, seems likely to be at least somewhat similar to that though otherwise though like thousand sons and the deathguard some new terminators seem like they're probably beyond the cards, hopefully like world eaters too if they do get some in tenth, some sort of raised leleshy cultists seem like there'd be near guaranteed as well given that all the other legions got them as well, some sort of themed horde units to go alongside the actual chaos marines it could go a long way into various different support characters like the deathguard gods and otherwise things like demon engines possessed alternatives or maybe a unique sonic dreadnought or hellbrews or could be possible, lots of different ways in which they could expand the army, as a suspect if they did come out like this though there's probably be a smallish launch range similar to what the world eaters got maybe a little bit more generous probably establishing the core of the army and then a bunch of follow up releases to come next edition, sticking with the chaos and for the forces of the demons there's a few more obvious things that they're missing from their roster, several units that went out of production due to being finecast resin miniatures, epidemias, the blue scribes, the transweaver, heraldon, joggernauton, flocksmaster judging by games workshops normal trends in the ten edition codexes, there's at least a reasonable chance that if they don't get released at this point they could be caught from the codex though as with the necrons they might choose to rescue some of them that they did with orc and the diviner and imitate the storm lot otherwise for ranged thing is the spoiled box scrivener is a noble herald variant that they can field but is weirdly only available in vanguard magickin for age of sigma, maybe a little bit odd that they have in the roster but also not very easy to get few of chaos are one that went away that could make a return at some point, I feel like the war cried chaos beasts could have been quite a good option that if they even just repurposed those exact same models for releasing 40k I don't think anyone would complain too much otherwise if you wanted to adapt demons to a more 40k setting and anything with more machinery and perhaps more soul-grinder variants could be an option other demon engines of that same sort of class it was like vast storm like well get a dark mechanic infection of his own at some point does seem like he's been standing apart from codex chaos demons being filled in alongside the heredicastarty otherwise just for remakes though I feel like most of the lesser demons have to be at least fairly high on the priority list a lot of the rest of the codex has been gradually resculpted over the years one by one the lesser demons are some of the older miniatures now maybe things like blood letters and demonets wouldn't be the worst to redo blood crushers are also a little bit on the dated side but I still think they're fun models for the Drew Carrey there needs a kind of obvious compare with some I think that's not many armies in warhammer 40k where a good section of their entire army raid just basically gone out of production because it was in fine cast resin and presumably it wasn't selling very well yearning and recarth the cult of the archon grotesques and the beast master and beast packs are all out of production several of those were kind of terrible kits in terms of value to represent the units in game though the grotesque that they had was just an individual monopos one which was really weird when you needed units of more than one to field them and he wanted to buy a beast pack just actually from the models that they were selling and that's a cost you a ridiculous amount and the models I'd say were merely okay I feel like all that coming back in plastic is perhaps more of the most pressing things for them though if they did decide to give the Drew Carrey natural major release then it'd be really nice to see the return of astra bell vex he seems like the exact sort of faction commander that games workshop lights to release these days with things like returning primarks and the necrons silent king coming back he's one of the genuine big bad narrative forces in warhammer 40k and I guess he'd likely be mounted on his days of destruction definitely other options for characters that could reappear though maybe lady malice or Duke slice us they could come back for miniatures that never had an individual model release and perhaps compare with some factions I feel like on the wish list might be asking games workshop to leave their very good combat patrol well alone they're given the trend of 10th edition that I feel like that's probably unlikely hopefully they do get a model release this edition as they're perhaps the most deserving out of any of the armies to do so full of space balls these sons of ross are in a similar sort of place to the blood angels waiting on a full range refresh at some point with primary scaling updating the aging lighter spaceviking models to the modern era I guess with how games workshop would start about that would probably be some upgraded wolf guard or wolf guard terminators as an early offering I don't know whether they do similar for the things like blood claws or gray hunters or just use primarisk scopes with upgrades blues to represent their mass per the law otherwise they've got lots and lots of characters arch at rockfish Logan Grimner Nial Stormcorder or with the slayer Lucas the trickster and more plus any of the generic primarisk wolf lords and including the ones mounted on thunder wolves again there'd be odds on to get an upgrade sprue and reinterpreted combat patrol similar to things like black templars and dark angels and perhaps some of the kits that have people with the most focus on at the moment are things like the wolf and thunder wolves I feel like both of those might be a little bit less desperate than some for updates for scale alone can't help but think that maybe the wolf and our miniatures that might do well from a reinterpretation again their miniatures that do divide opinion a bit in terms of their looks no idea as to their likelihood though feels like we haven't really had any big hints of space dwarves getting any major attention sometime soon if both dark angels and blood angels do wind up doing so it seems like they will be lexed in line though next up we've got the L-dari and again one of the factions that still needs a big release wave to try and update a whole bunch of their alien model kits again they're one of the armies that suspected that might well get a few more miniatures intent addition compared with some they didn't have a big model release last time round they're still clearly really quite a lot to do for the space elves and again going the slight theory of games workshop following up a release for an army with a second one the addition after and then giving a break it at least might imply some L-dari coming for tent intent addition already they have got striking scorpions via a kill team release which was quite nice to take off another one of the many aspects that needed updating I guess kill team could also be possible for other ones of the aspects in the future though in any case for things on the L-dari checklist there's swooby hawks, walk spiders and fire dragons out of the aspect warriors quite a lot of their Phoenix lords and azimone has been heavily rumored I've seen a picture of a model that was reportedly azimone for tent addition which they look quite convincing no guess we'll have to wait and see on that front otherwise literally anything resin it might have a judgement day in tent addition there's only been a few characters so far that have survived despite not having a plastic kit a few space ruins and a few things from other codexes like treasure the infinite but could potentially be bad news for characters like iriel and elic night spirit if games workshop don't make them plastic the same is true for the l-dari fort world range as well things like hornets and shadow specters could potentially be on the way out so far there haven't been any fort world units that aren't super heavies that have survived for the codexes they've got released so far besides custodies and knights which they said they were treating differently i wouldn't have massive amounts of hope of too many of the four-dwell kits being ported to plastic then otherwise even beyond some of the obvious stuff there's still some kits that are really quite old in the range the vibrant falcon of both fairly ancient miniatures as 40k plastic releases go and beyond that i guess there's quite a lot of possibilities for new l-dari units maybe the return of the bonneting of from dawn of war who had a miniature in the past course s could be expanded if they had a mind to maybe taking some inspiration from the four-dwell range they could do jet bikes exodite l-dari would be kind of courtesy maybe some tribal miniatures enlisting some great beasts from their home planets that still feels like they could be a nice soup heavy graph tank for them perhaps but most armies don't have multiple different titanic units to choose from so maybe that's a little bit less likely given how much other things there are to do lots and lots of options though hopefully games workshop show them a bit more love in tent edition finally for the tent edition codexes we have the black ten plus they feel like one of the armies that's about as complete as any army in 40k is likely to get at this point i guess it wasn't like they really had an enormous amount of unique units from the past but games workshop basically did the vast majority of them in ninth sort of rendering crusader squads and their three most famous characters plus some generic heroes as well in their martial arts and castellans i'm honestly not sure what games workshop might come out with them for tent edition if anything maybe they've had to speculate then perhaps something like a black ten plus specific chaplain kits with a little bit more right to zeal theme could be a fun one for them they are particularly known for their chaplains so might fit in nicely alongside the castellan and martial that maybe if we were to dream bigger then perhaps some theme terminators i think could be incredibly cool for the black ten plus and that's to be kind of breaking new ground for 40k it would be really cool to see a bit more for them but maybe compared with armies like dark angels it did feel like all the obvious choices all got done at once so it feels a bit more like games workshop did a targeted for a fresh of the range i might not give them as much attention for a while now any case though i think i'll leave that there for this one let me know your greatest wishlist items for your army in 40k and what do you think games workshop is most likely to give them do you think that they'll get any sort of big model release this edition or whether it be just something like a token character if you've enjoyed the video then feel free to subscribe to all specs tactics i'll certainly keep the regular 40k videos coming i do tend to post new ones just about every day finally if you have been enjoying all the videos on the channel i would just like to mention the all specs tactics does have a page room page as well and you can find that link in the video description if you'd like to help support and keep all the videos coming channel patrons do get a fair few advantages as well seeing certain videos early regular votes to see what sort of things come next on the channel and automatic entry into the regular prize giveaways with a chance to win some big model kits each month if any of that sounds good to you or you'd just like to help support the link is down in the video description in any case a massive thank you for listening and i'll hope to see you guys next time' metadata={'title': 'Every Unreleased Codex in 10th Edition and What Models They Should Get', 'id': 'N3rdQazLZPA', 'duration': 2004, 'upload_date': '20240627', 'uploader': 'Auspex Tactics', 'uploader_id': '@auspextactics', 'view_count': 66292, 'like_count': 1984, 'dislike_count': 'Empty', 'average_rating': 'Empty', 'age_limit': 0, 'categories': 'Gaming', 'tags': 'warhammer 40k, 10th edition, codex, miniature, releases, predictions, warhammer, 40K, news, rumours, leaks, reveal, warhammer community, games workshop, review, preview, prices, release date, warhammer 40000, space marines, GW', 'ext': 'mp4', 'thumbnail': 'https://i.ytimg.com/vi_webp/N3rdQazLZPA/maxresdefault.webp', 'description': \"Let's talk miniature releases for the Warhammer 40K armies, what models are they likely to receive, and what do they most need?\\n\\n-- Patreon Page -- \\nhttps://www.patreon.com/auspex \\n-- SubscribeStar --\\nhttps://www.subscribestar.com/auspex\\n\\n-- Buy Warhammer 40K miniatures here --\\nUK - Element Games: http://elementgames.co.uk/?d=10426 \\nUSA - Wargame Portal - https://wargameportal.com/?ref=auspextactics_wgp\\nor Amazon also in the USA - https://amzn.to/3QWzuIC\\nAustralia - Gap Games - https://bit.ly/3N8VBtj\\nCanada - Fenris Workshop - https://shop.fenrisworkshop.com/auspextactics\\nThese are affiliate links that also hep to support Auspex Tactics videos, though cost no extra to use.\\n\\nIron Enforcers Miniatures - https://thangs.com/designer/AcrossTheLegions\\n3D Printers from Elegoo Here - https://shareasale.com/r.cfm?b=1680329&u=3447346&m=104244&urllink=&afftrack=\\nAuspex Tactics Merch - https://wargameportal.com/collections/merch-auspex-tactics/?ref=auspextactics_wgp\\n\\n-- Social Media --\\nFacebook: https://www.facebook.com/Auspex-Tactics-103129707773165 \\nDiscord: https://discord.gg/RrvQurN \\n\\n-- Subscribe to Auspex Tactics --\\nhttps://tinyurl.com/yc69mguy\\n\\n0:00 Intro\\n2:05 Grey Knights\\n3:43 Agents of the Imperium\\n5:15 Thousand Sons\\n6:58 Astra Militarum\\n9:55 Knights\\n13:02 Deathwatch\\n14:10 Death Guard\\n16:13 World Eaters\\n17:54 Leagues of Votann\\n19:44 Blood Angels\\n22:09 Emperor's Children\\n24:01 Chaos Daemons\\n25:43 Drukhari\\n27:21 Space Wolves\\n28:45 Aeldari\\n31:14 Black Templars\\n32:22 Outro\", 'channel': 'Auspex Tactics', 'channel_id': 'UC6Gco9PWxmJmJ5CqfbChuiQ', 'is_live': False, 'release_date': 'Empty', 'availability': 'public'}\n"
     ]
    }
   ],
   "source": [
    "# Example transcription usage with Warhammer video\n",
    "url = \"https://www.youtube.com/watch?v=N3rdQazLZPA\"\n",
    "document = create_transcription_from_video(url)\n",
    "if document:\n",
    "    print(\"Document created successfully:\")\n",
    "    print(document)\n",
    "else:\n",
    "    print(\"Failed to create document\")"
   ]
  },
  {
   "cell_type": "code",
   "execution_count": 8,
   "id": "88251ad9-ce07-4f6b-bb12-df05ca95eeeb",
   "metadata": {
    "scrolled": true
   },
   "outputs": [
    {
     "name": "stderr",
     "output_type": "stream",
     "text": [
      "[debug] Encodings: locale cp65001, fs utf-8, pref cp65001, out UTF-8 (No VT), error UTF-8 (No VT), screen UTF-8 (No VT)\n",
      "[debug] yt-dlp version stable@2024.07.09 from yt-dlp/yt-dlp [7ead7332a] (pip) API\n",
      "[debug] params: {'format': 'mp4', 'outtmpl': 'downloads/video.%(ext)s', 'verbose': True, 'compat_opts': set(), 'http_headers': {'User-Agent': 'Mozilla/5.0 (Windows NT 10.0; Win64; x64) AppleWebKit/537.36 (KHTML, like Gecko) Chrome/94.0.4606.81 Safari/537.36', 'Accept': 'text/html,application/xhtml+xml,application/xml;q=0.9,*/*;q=0.8', 'Accept-Language': 'en-us,en;q=0.5', 'Sec-Fetch-Mode': 'navigate'}}\n",
      "[debug] Python 3.9.19 (CPython AMD64 64bit) - Windows-10-10.0.19045-SP0 (OpenSSL 3.3.1 4 Jun 2024)\n",
      "[debug] exe versions: ffmpeg 7.0.1 (setts), ffprobe 7.0.1\n",
      "[debug] Optional libraries: Cryptodome-3.20.0, brotli-1.0.9, certifi-2024.07.04, mutagen-1.47.0, requests-2.32.3, sqlite3-3.45.3, urllib3-1.26.19, websockets-12.0\n",
      "[debug] Proxy map: {}\n",
      "[debug] Request Handlers: urllib, requests, websockets\n",
      "[debug] Loaded 1834 extractors\n"
     ]
    },
    {
     "name": "stdout",
     "output_type": "stream",
     "text": [
      "[youtube] Extracting URL: https://www.youtube.com/watch?v=vr_FPbAHids\n",
      "[youtube] vr_FPbAHids: Downloading webpage\n",
      "[youtube] vr_FPbAHids: Downloading ios player API JSON\n"
     ]
    },
    {
     "name": "stderr",
     "output_type": "stream",
     "text": [
      "[debug] Loading youtube-nsig.d60b0ef9 from cache\n",
      "[debug] [youtube] Decrypted nsig a9DvKvf6-01kOs-6 => 1D5QvNukY_j8gQ\n",
      "[debug] Loading youtube-nsig.d60b0ef9 from cache\n",
      "[debug] [youtube] Decrypted nsig HmsLKANqMlhkzjW8 => wRTKMaJKIUA42A\n"
     ]
    },
    {
     "name": "stdout",
     "output_type": "stream",
     "text": [
      "[youtube] vr_FPbAHids: Downloading m3u8 information\n"
     ]
    },
    {
     "name": "stderr",
     "output_type": "stream",
     "text": [
      "[debug] Sort order given by extractor: quality, res, fps, hdr:12, source, vcodec:vp9.2, channels, acodec, lang, proto\n",
      "[debug] Formats sorted by: hasvid, ie_pref, quality, res, fps, hdr:12(7), source, vcodec:vp9.2(10), channels, acodec, lang, proto, size, br, asr, vext, aext, hasaud, id\n"
     ]
    },
    {
     "name": "stdout",
     "output_type": "stream",
     "text": [
      "[info] vr_FPbAHids: Downloading 1 format(s): 18\n"
     ]
    },
    {
     "name": "stderr",
     "output_type": "stream",
     "text": [
      "[debug] Invoking http downloader on \"https://rr5---sn-h5nhv8pa-h5qe.googlevideo.com/videoplayback?expire=1721429648&ei=MJqaZqisKsfcmLAP88aT8As&ip=66.81.167.174&id=o-ALca83-dKDGOYrRjgUDB1r2pXuKUijs82DnnONWRMlBT&itag=18&source=youtube&requiressl=yes&xpc=EgVo2aDSNQ%3D%3D&mh=mw&mm=31%2C29&mn=sn-h5nhv8pa-h5qe%2Csn-h5qzen7l&ms=au%2Crdu&mv=m&mvi=5&pcm2cms=yes&pl=21&initcwndbps=1153750&bui=AXc671LVMl5xQ4S_HBJRa5NZT4IoCptCVYt0TPY8rjOD8tnujohKb0HUMcGU2BigWHEaJvE9fRkQKt8L&spc=NO7bAXRv6SVTsMfZfsB16ZaDWQxmvC3UacVggFtEXUrfgyKWC6BrL1tXVbLPeAE&vprv=1&svpuc=1&mime=video%2Fmp4&ns=nfUcqVLbbkgnUUKh512wB5UQ&rqh=1&cnr=14&ratebypass=yes&dur=154.505&lmt=1699376532057842&mt=1721407734&fvip=5&c=WEB&sefc=1&txp=5538434&n=1D5QvNukY_j8gQ&sparams=expire%2Cei%2Cip%2Cid%2Citag%2Csource%2Crequiressl%2Cxpc%2Cbui%2Cspc%2Cvprv%2Csvpuc%2Cmime%2Cns%2Crqh%2Ccnr%2Cratebypass%2Cdur%2Clmt&sig=AJfQdSswRQIhAMhuZqN_zpEkXg_I43QQFGM7hrP3TuTw_F1Rln4XlY7SAiAUmGlhUIifrGDuZaqV9agHH6o0OCbekwXgix-BLs8Nug%3D%3D&lsparams=mh%2Cmm%2Cmn%2Cms%2Cmv%2Cmvi%2Cpcm2cms%2Cpl%2Cinitcwndbps&lsig=AHlkHjAwRgIhALrbrxXRZiIRBfhizNb0Zh8faoeQqGeRuZKf7vMqkqQNAiEA5mYoAmcOYjHeRjIw1EZx3W5QBjTeydhw7xYvJkwrlIM%3D\"\n",
      "[debug] File locking is not supported. Proceeding without locking\n"
     ]
    },
    {
     "name": "stdout",
     "output_type": "stream",
     "text": [
      "[download] Destination: downloads\\video.mp4\n",
      "[download] 100% of    8.60MiB in 00:00:00 at 12.70MiB/s    \n",
      "Video title: When the healer thinks they're DPS\n",
      "Downloaded video saved to: C:\\Users\\Pedro\\Documents\\Ironhack\\NinthWeek\\Project_3\\project-3-business-case-multimodal-ai-chatbot-for-yt-video-qa\\notebooks\\downloads\\video_1.mp4\n",
      "Extracting audio to: C:\\Users\\Pedro\\Documents\\Ironhack\\NinthWeek\\Project_3\\project-3-business-case-multimodal-ai-chatbot-for-yt-video-qa\\notebooks\\downloads\\video_1.wav\n",
      "MoviePy - Writing audio in C:\\Users\\Pedro\\Documents\\Ironhack\\NinthWeek\\Project_3\\project-3-business-case-multimodal-ai-chatbot-for-yt-video-qa\\notebooks\\downloads\\video_1.wav\n"
     ]
    },
    {
     "name": "stderr",
     "output_type": "stream",
     "text": [
      "                                                                      \r"
     ]
    },
    {
     "name": "stdout",
     "output_type": "stream",
     "text": [
      "MoviePy - Done.\n",
      "Transcribing audio from: C:\\Users\\Pedro\\Documents\\Ironhack\\NinthWeek\\Project_3\\project-3-business-case-multimodal-ai-chatbot-for-yt-video-qa\\notebooks\\downloads\\video_1.wav\n",
      "Transcription completed.\n",
      "Using CUDA for Pyannote diarization\n",
      "Document created successfully:\n",
      "page_content='Metadata:\n",
      "title: When the healer thinks they're DPS\n",
      "id: vr_FPbAHids\n",
      "duration: 155\n",
      "upload_date: 20220803\n",
      "uploader: Viva La Dirt League\n",
      "uploader_id: @VivaLaDirtLeague\n",
      "view_count: 1964202\n",
      "like_count: 99906\n",
      "dislike_count: Empty\n",
      "average_rating: Empty\n",
      "age_limit: 0\n",
      "categories: Gaming\n",
      "tags: NPC Man, PUBG Logic, pubg real life, pubg, pubg logic supercut, pubg movie, pubg parody, Viva La Dirt League, vldl, epic npc man, pubg mobile, pubg skits, viva la dirt league pubg, pubg funny, pubg live action, vldl pubg, gaming, online gaming, gamer, playtech, bored, game logic\n",
      "ext: mp4\n",
      "thumbnail: https://i.ytimg.com/vi/vr_FPbAHids/maxresdefault.jpg\n",
      "description: Plz healers... stop acting like you're DPS\n",
      "\n",
      "SUPPORT US ON PATREON - https://bit.ly/36Hg7ZY\n",
      "\n",
      "ALL SOCIALS -  https://linktr.ee/vldl\n",
      "TWITCH - https://www.twitch.tv/team/vldl\n",
      "MERCH - https://vldl.shop\n",
      "SONGS - https://bit.ly/2OBeB4O\n",
      " \n",
      "SERIES PLAYLISTS\n",
      "\n",
      "Epic NPC Man: http://bit.ly/NPCman\n",
      "Bored: http://bit.ly/VLDLbored\n",
      "PUBG Logic: http://bit.ly/PUBGlogic\n",
      "FPS Logic: http://bit.ly/FPSlogic\n",
      "Souls Logic: http://bit.ly/Soulslogic\n",
      "Music Videos: http://bit.ly/VLDLmusicvids\n",
      "Wildcards: http://bit.ly/VLDLwildcard\n",
      "channel: Viva La Dirt League\n",
      "channel_id: UCchBatdUMZoMfJ3rIzgV84g\n",
      "is_live: False\n",
      "release_date: Empty\n",
      "availability: public\n",
      "\n",
      "Diarization:\n",
      "Speaker SPEAKER_02 [0.00 - 14.10]:  Okay,  this  should  be  pretty  straightforward.  Brut  and  I  will  go  at  the  front  and  tank  the  damage.  I'll  let  it  just  hang  back  and  hit  them  with  the  arrows.  And  Adam  just  focus  on  healing  us.  Agreed.\n",
      "Speaker SPEAKER_00 [14.27 - 17.45]:  Seriously,  you're  going  to  focus  on  healing  us  100%.  Okay?\n",
      "Speaker SPEAKER_02 [17.90 - 17.92]: \n",
      "Speaker SPEAKER_01 [17.92 - 18.86]:  what  do  you  mean?\n",
      "Speaker SPEAKER_00 [19.05 - 24.96]:  I  just  mean  sometimes  you  get  a  little  distracted  trying  to  do  damage  when  you  really  should  just  be  focusing  on  healing  us.\n",
      "Speaker SPEAKER_01 [24.96 - 27.72]:  I  mean,  I  know  how  to  heal.  That's  why  I  expect  into  heals.\n",
      "Speaker SPEAKER_04 [27.72 - 34.49]:  Adam,  I'm  going  to  agree  with  Brut.  On  this  one  we  kind  of  didn't  have  enough  heals  last  game,  so  if  you  could  just  ramp  it  up  a  little  bit,  that'd\n",
      "Speaker SPEAKER_01 [34.49 - 38.66]:  Whoa,  guys,  I  am  feeling  really  attacked  right  now.  What's  going  on?  What  are  you  trying  to  say?\n",
      "Speaker SPEAKER_02 [38.66 - 46.03]:  We're  not  trying  to  say  anything  about  you.  We're  just  saying  that  a  few  more  heals  would  be  appreciated.  Well,  Ron,  how  about  I  flip  this  back  on  you?\n",
      "Speaker SPEAKER_01 [46.03 - 48.88]:  How  about  you  just  not  get  hit  by  the  boss  so  much?\n",
      "Speaker SPEAKER_02 [49.00 - 56.21]:  I  so  just  to  clarify,  I'm  a  tank.  My  job  is  literally  to  get  hit  by  the  boss  and  take  the  damage  and  you're  saying  not  to  do  that.  Yeah,\n",
      "Speaker SPEAKER_01 [55.89 - 61.56]:  how  about  you  like  use  a  shield  or  dodge  out  of  the  way?  Or  maybe  just  like  don't  stand  in  the  fire  pit  that  the  dragon  created?\n",
      "Speaker SPEAKER_02 [61.56 - 68.10]:  Maybe  if  you're  just  trying  to  damage  him  with  your  stupid  little  dagger  and  then  you  try  to  heal  us  with  one  of  his  better  ones.  Oh,  that's  unbelievable.  I  don't  think  I'm  going  to  do  it  for  Ron.\n",
      "Speaker SPEAKER_00 [69.59 - 73.13]:  to  clarify,  you  did  get  that  we  just  want  you  to  focus  on  healing.\n",
      "Speaker SPEAKER_04 [74.28 - 78.99]:  Hmm.  Adam,  we're  going  to  need  audible  confirmation  that  you  are  going  to  use.  He's  not  even  looking  at  me.\n",
      "Speaker SPEAKER_00 [79.24 - 80.29]:  need  you  to  make  eye  contact.\n",
      "Speaker SPEAKER_04 [81.44 - 82.03]:  are  you\n",
      "Speaker SPEAKER_02 [82.03 - 82.63]:  to  heal  us?\n",
      "Speaker SPEAKER_04 [84.14 - 84.15]: \n",
      "Speaker SPEAKER_02 [84.15 - 84.56]:  man.\n",
      "Speaker SPEAKER_02 [85.13 - 85.64]:  is  that\n",
      "Speaker SPEAKER_04 [86.60 - 87.02]:  are\n",
      "Speaker SPEAKER_02 [87.02 - 88.51]:  looking  at?  What  are\n",
      "Speaker SPEAKER_04 [87.09 - 88.03]:  looking\n",
      "Speaker SPEAKER_03 [88.51 - 88.69]: \n",
      "Speaker SPEAKER_03 [88.89 - 88.96]: \n",
      "Speaker SPEAKER_02 [88.96 - 88.98]: \n",
      "Speaker SPEAKER_03 [88.98 - 90.04]:  hearing  what  we're  saying?\n",
      "Speaker SPEAKER_03 [90.73 - 90.75]: \n",
      "Speaker SPEAKER_04 [90.75 - 90.94]:  Hmm.\n",
      "Speaker SPEAKER_03 [90.94 - 95.14]:  Yeah.  Can  you  just  confirm  you're  going  to  heal  us  like  as  the\n",
      "Speaker SPEAKER_03 [95.73 - 96.57]:  I  am  a\n",
      "Speaker SPEAKER_03 [97.25 - 99.02]:  Can  you  just  say  yes?\n",
      "Speaker SPEAKER_00 [99.36 - 99.69]:  Hmm.\n",
      "Speaker SPEAKER_00 [100.08 - 103.12]:  for  me,  can  you  just  please?  Can  you  please?  Can  you  just  do  it?\n",
      "Speaker SPEAKER_02 [103.58 - 104.10]:  you,  Brit.\n",
      "Speaker SPEAKER_02 [106.06 - 109.79]:  look  at  me.  Are  you  going  to  focus  on  healing  us?\n",
      "Speaker SPEAKER_02 [111.96 - 115.81]:  Fine,  fine,  fine,  fine,  fine.  Yes.  Great.  Thank  you.\n",
      "Speaker SPEAKER_02 [116.01 - 121.56]:  so  Brit  and  I  will  tank  the  damage.  Alan,  hit  him  with  the  arrows.  Adam,  focus  on  healing  us.\n",
      "Speaker SPEAKER_02 [122.26 - 123.66]:  on  my  count.\n",
      "Speaker SPEAKER_02 [123.91 - 125.14]:  three,\n",
      "Speaker SPEAKER_02 [125.68 - 126.24]: \n",
      "Speaker SPEAKER_02 [126.46 - 129.92]:  one.  Holy  Daga!  Oh!\n",
      "Speaker SPEAKER_02 [132.03 - 132.52]: \n",
      "Speaker SPEAKER_02 [136.79 - 137.93]:  dead.  He's  already  dead.\n",
      "Speaker SPEAKER_02 [139.25 - 140.35]:  dead.  Two  of  you  going?\n",
      "Speaker SPEAKER_02 [141.46 - 142.56]:  We're  done  with  the  healer.\n",
      "Speaker SPEAKER_02 [143.70 - 145.39]:  Let's  go  find  another  healer.  Let's  go  find  another\n",
      "Speaker SPEAKER_04 [143.97 - 145.44]:  go  find  another  healer.  Let's  go  find  another\n",
      "Speaker SPEAKER_02 [145.44 - 146.07]:  Goodbye.\n",
      "Speaker SPEAKER_00 [148.35 - 149.00]:  to  tell\n",
      "Speaker SPEAKER_04 [152.01 - 152.65]:  we  going?\n",
      "Speaker SPEAKER_00 [153.46 - 153.61]: \n",
      "Speaker SPEAKER_04 [153.61 - 154.52]: \n",
      "Speaker SPEAKER_00 [153.80 - 154.42]: \n",
      "Speaker SPEAKER_00 [154.49 - 154.52]: \n",
      "' metadata={'title': \"When the healer thinks they're DPS\", 'id': 'vr_FPbAHids', 'duration': 155, 'upload_date': '20220803', 'uploader': 'Viva La Dirt League', 'uploader_id': '@VivaLaDirtLeague', 'view_count': 1964202, 'like_count': 99906, 'dislike_count': 'Empty', 'average_rating': 'Empty', 'age_limit': 0, 'categories': 'Gaming', 'tags': 'NPC Man, PUBG Logic, pubg real life, pubg, pubg logic supercut, pubg movie, pubg parody, Viva La Dirt League, vldl, epic npc man, pubg mobile, pubg skits, viva la dirt league pubg, pubg funny, pubg live action, vldl pubg, gaming, online gaming, gamer, playtech, bored, game logic', 'ext': 'mp4', 'thumbnail': 'https://i.ytimg.com/vi/vr_FPbAHids/maxresdefault.jpg', 'description': \"Plz healers... stop acting like you're DPS\\n\\nSUPPORT US ON PATREON - https://bit.ly/36Hg7ZY\\n\\nALL SOCIALS -  https://linktr.ee/vldl\\nTWITCH - https://www.twitch.tv/team/vldl\\nMERCH - https://vldl.shop\\nSONGS - https://bit.ly/2OBeB4O\\n \\nSERIES PLAYLISTS\\n\\nEpic NPC Man: http://bit.ly/NPCman\\nBored: http://bit.ly/VLDLbored\\nPUBG Logic: http://bit.ly/PUBGlogic\\nFPS Logic: http://bit.ly/FPSlogic\\nSouls Logic: http://bit.ly/Soulslogic\\nMusic Videos: http://bit.ly/VLDLmusicvids\\nWildcards: http://bit.ly/VLDLwildcard\", 'channel': 'Viva La Dirt League', 'channel_id': 'UCchBatdUMZoMfJ3rIzgV84g', 'is_live': False, 'release_date': 'Empty', 'availability': 'public'}\n"
     ]
    }
   ],
   "source": [
    "# Example diarization usage with meme rpg video\n",
    "url = \"https://www.youtube.com/watch?v=vr_FPbAHids\"\n",
    "document = create_diarization_from_video(url)\n",
    "if document:\n",
    "    print(\"Document created successfully:\")\n",
    "    print(document)\n",
    "else:\n",
    "    print(\"Failed to create document\")"
   ]
  },
  {
   "cell_type": "markdown",
   "id": "6df705b6-cc42-44ed-a644-86b53d2c81d1",
   "metadata": {},
   "source": [
    "# Agents"
   ]
  },
  {
   "cell_type": "code",
   "execution_count": 9,
   "id": "6c06fb6f-78a1-4722-844c-4690ef9fb1b3",
   "metadata": {},
   "outputs": [],
   "source": [
    "# Add document to the vector database\n",
    "\n",
    "try:\n",
    "    vectorstore = Chroma.from_documents(documents=[document], embedding=OpenAIEmbeddings())\n",
    "except Exception as e:\n",
    "    print(f\"Error creating vectorstore: {e}\")\n",
    "    exit()\n",
    "\n",
    "retriever = vectorstore.as_retriever()\n"
   ]
  },
  {
   "cell_type": "code",
   "execution_count": 10,
   "id": "9c6796ab-66de-4b69-ad77-83c2ab030e73",
   "metadata": {},
   "outputs": [],
   "source": [
    "llm = ChatOpenAI(model=\"gpt-4o\")"
   ]
  },
  {
   "cell_type": "code",
   "execution_count": 11,
   "id": "aaf5804a-9fc4-4fbf-8d2a-b924ed040484",
   "metadata": {},
   "outputs": [],
   "source": [
    "# retrieval qa chain\n",
    "#from langchain.chains import SimpleChain\n",
    "\n",
    "try:\n",
    "    qa = RetrievalQA.from_chain_type(\n",
    "        llm=llm,\n",
    "        chain_type=\"stuff\",\n",
    "        retriever=retriever\n",
    "    )\n",
    "\n",
    "except Exception as e:\n",
    "    print(f\"Error initializing QA chains: {e}\")\n",
    "    exit()"
   ]
  },
  {
   "cell_type": "code",
   "execution_count": 14,
   "id": "e100c948-b271-4ff8-a9f4-856d984f04c0",
   "metadata": {},
   "outputs": [],
   "source": [
    "# First we initialize the model we want to use.\n",
    "from langchain_openai import ChatOpenAI\n",
    "\n",
    "model = ChatOpenAI(model=\"gpt-4o\", temperature=0)\n"
   ]
  },
  {
   "cell_type": "code",
   "execution_count": 15,
   "id": "00ac409f-de26-4303-ba91-d0ae76f8fe13",
   "metadata": {},
   "outputs": [],
   "source": [
    "from langgraph.checkpoint import MemorySaver\n",
    "\n",
    "memory = MemorySaver()"
   ]
  },
  {
   "cell_type": "code",
   "execution_count": 16,
   "id": "9723ceba-f43a-49ea-aafd-b8a6c4244419",
   "metadata": {},
   "outputs": [],
   "source": [
    "#simplified tools, use this for now\n",
    "from langchain_core.tools import tool\n",
    "tools = [\n",
    "    Tool(\n",
    "        name='video_transcript_retriever',\n",
    "        func=qa.run,\n",
    "        description=(\n",
    "            'Searches and returns excerpts from the transcript of the user uploaded video.'\n",
    "        )\n",
    "    ),\n",
    "]\n",
    "\n",
    "prompt = '''You are a chatbot that answers questions and perform tasks about a video that the user provides. If lacking context, assume the user is always talking about the video.\n",
    "    You must always identify the language the user is utilizing in their last message and answer in that language, unless the user tells you otherwise. \n",
    "    If the user asks for a transcription, provide it even if it's long by iteratively chunking the request. Consider that the transcription might not be perfect everytime.\n",
    "    Use more steps when needed in order to get the right answer.\n",
    "    Consider if you need to use your tools. '''"
   ]
  },
  {
   "cell_type": "code",
   "execution_count": 17,
   "id": "af706e01-c926-40d5-9254-1c5b4654a061",
   "metadata": {},
   "outputs": [],
   "source": [
    "from langgraph.prebuilt import create_react_agent\n",
    "agent = create_react_agent(model, tools=tools, messages_modifier=prompt, checkpointer=memory)\n",
    "config = {\"configurable\": {\"thread_id\": \"5\"}}"
   ]
  },
  {
   "cell_type": "code",
   "execution_count": 18,
   "id": "3a068c47-da7c-4dc0-9264-2f850f5f2033",
   "metadata": {},
   "outputs": [],
   "source": [
    "def print_stream(stream):\n",
    "    for s in stream:\n",
    "        message = s[\"messages\"][-1]\n",
    "        if isinstance(message, tuple):\n",
    "            print(message)\n",
    "        else:\n",
    "            message.pretty_print()"
   ]
  },
  {
   "cell_type": "code",
   "execution_count": 19,
   "id": "d21b97e2-a12d-4954-9ca6-434c605bd29c",
   "metadata": {},
   "outputs": [
    {
     "name": "stdout",
     "output_type": "stream",
     "text": [
      "================================\u001b[1m Human Message \u001b[0m=================================\n",
      "\n",
      "What is the healer's punchline?\n",
      "==================================\u001b[1m Ai Message \u001b[0m==================================\n",
      "Tool Calls:\n",
      "  video_transcript_retriever (call_4FVnz6nr7jrJJTCV70O3zLjN)\n",
      " Call ID: call_4FVnz6nr7jrJJTCV70O3zLjN\n",
      "  Args:\n",
      "    __arg1: healer's punchline\n"
     ]
    },
    {
     "name": "stderr",
     "output_type": "stream",
     "text": [
      "Number of requested results 4 is greater than number of elements in index 1, updating n_results = 1\n"
     ]
    },
    {
     "name": "stdout",
     "output_type": "stream",
     "text": [
      "=================================\u001b[1m Tool Message \u001b[0m=================================\n",
      "Name: video_transcript_retriever\n",
      "\n",
      "\"How about you just not get hit by the boss so much?\"\n",
      "==================================\u001b[1m Ai Message \u001b[0m==================================\n",
      "\n",
      "The healer's punchline is: \"How about you just not get hit by the boss so much?\"\n"
     ]
    }
   ],
   "source": [
    "query = \"What is the healer's punchline?\"\n",
    "inputs = {\"messages\": [(\"user\", query)]}\n",
    "print_stream(agent.stream(inputs, config=config, stream_mode=\"values\"))"
   ]
  },
  {
   "cell_type": "code",
   "execution_count": 19,
   "id": "5ef59759-43a0-403f-9397-8bf3e5c9c5f7",
   "metadata": {},
   "outputs": [],
   "source": [
    "config = {\"configurable\": {\"thread_id\": \"2\"}}"
   ]
  },
  {
   "cell_type": "code",
   "execution_count": 20,
   "id": "b5a1842a-8ee3-4955-8702-0f68abbaefe1",
   "metadata": {},
   "outputs": [
    {
     "name": "stderr",
     "output_type": "stream",
     "text": [
      "Number of requested results 4 is greater than number of elements in index 1, updating n_results = 1\n"
     ]
    },
    {
     "data": {
      "text/plain": [
       "{'messages': [HumanMessage(content='Quién subió el vídeo?', id='cc992821-d6de-4ed9-a707-c02ebe8a36c1'),\n",
       "  AIMessage(content='', additional_kwargs={'tool_calls': [{'id': 'call_HdLZXxq7EIkiClh6bFrXuZVG', 'function': {'arguments': '{\"__arg1\":\"Quién subió el vídeo?\"}', 'name': 'video_transcript_retriever'}, 'type': 'function'}]}, response_metadata={'token_usage': {'completion_tokens': 25, 'prompt_tokens': 204, 'total_tokens': 229}, 'model_name': 'gpt-4o-2024-05-13', 'system_fingerprint': 'fp_c4e5b6fa31', 'finish_reason': 'tool_calls', 'logprobs': None}, id='run-c10f1474-bf3e-43c3-a776-167ff0b26f3e-0', tool_calls=[{'name': 'video_transcript_retriever', 'args': {'__arg1': 'Quién subió el vídeo?'}, 'id': 'call_HdLZXxq7EIkiClh6bFrXuZVG', 'type': 'tool_call'}], usage_metadata={'input_tokens': 204, 'output_tokens': 25, 'total_tokens': 229}),\n",
       "  ToolMessage(content='El vídeo fue subido por Auspex Tactics.', name='video_transcript_retriever', id='a58ceebd-537e-4378-a791-8e3ee8a85602', tool_call_id='call_HdLZXxq7EIkiClh6bFrXuZVG'),\n",
       "  AIMessage(content='El vídeo fue subido por Auspex Tactics.', response_metadata={'token_usage': {'completion_tokens': 12, 'prompt_tokens': 252, 'total_tokens': 264}, 'model_name': 'gpt-4o-2024-05-13', 'system_fingerprint': 'fp_400f27fa1f', 'finish_reason': 'stop', 'logprobs': None}, id='run-127a443b-8ef2-44f2-8f84-f4f9db30d80b-0', usage_metadata={'input_tokens': 252, 'output_tokens': 12, 'total_tokens': 264})]}"
      ]
     },
     "execution_count": 20,
     "metadata": {},
     "output_type": "execute_result"
    }
   ],
   "source": [
    "query = \"Quién subió el vídeo?\"\n",
    "inputs = {\"messages\": [(\"user\", query)]}\n",
    "agent.invoke(inputs, config=config, stream_mode=\"values\")"
   ]
  },
  {
   "cell_type": "markdown",
   "id": "a5da92ca-2182-44d0-9f4f-efb3c28d1b25",
   "metadata": {},
   "source": [
    "# Evaluation"
   ]
  },
  {
   "cell_type": "markdown",
   "id": "310645da-d8b6-42a4-8cd5-2f76b8f6f906",
   "metadata": {},
   "source": [
    "We are going to build 2 evaluation sets: for Q&A and for summarization, 2 of the main tasks the model is going to execute. They have to be oriented for RAG"
   ]
  },
  {
   "cell_type": "markdown",
   "id": "73e01515-b3cb-46fe-b9d2-9b56cccc1263",
   "metadata": {},
   "source": [
    "In order to get them right, we will use LangSmith https://docs.smith.langchain.com/tutorials/Developers/rag#evaluating-intermediate-steps and DeepEval https://docs.confident-ai.com/docs/guides-rag-evaluation"
   ]
  },
  {
   "cell_type": "markdown",
   "id": "5e57e429-2e25-4fd6-acac-c444c5c6f94b",
   "metadata": {},
   "source": [
    "We first need to create our datasets"
   ]
  },
  {
   "cell_type": "code",
   "execution_count": 22,
   "id": "ec12e992-5fee-458f-ab13-a9f3143d0d12",
   "metadata": {},
   "outputs": [],
   "source": [
    "config = {\"configurable\": {\"thread_id\": \"3\"}}"
   ]
  },
  {
   "cell_type": "code",
   "execution_count": 43,
   "id": "363cc3b5-b5f3-47f5-bb15-9ebcb89ee6b1",
   "metadata": {},
   "outputs": [],
   "source": []
  },
  {
   "cell_type": "code",
   "execution_count": 27,
   "id": "2c2e3079-ca25-46bb-ba5c-ee01d9acb557",
   "metadata": {
    "collapsed": true,
    "jupyter": {
     "outputs_hidden": true
    },
    "scrolled": true
   },
   "outputs": [
    {
     "ename": "LangSmithConflictError",
     "evalue": "Conflict for /datasets. HTTPError('409 Client Error: Conflict for url: https://api.smith.langchain.com/datasets', '{\"detail\":\"Dataset with this name already exists.\"}')",
     "output_type": "error",
     "traceback": [
      "\u001b[1;31m---------------------------------------------------------------------------\u001b[0m",
      "\u001b[1;31mHTTPError\u001b[0m                                 Traceback (most recent call last)",
      "File \u001b[1;32m~\\anaconda3\\envs\\PytorchCudaEnv\\lib\\site-packages\\langsmith\\utils.py:121\u001b[0m, in \u001b[0;36mraise_for_status_with_text\u001b[1;34m(response)\u001b[0m\n\u001b[0;32m    120\u001b[0m \u001b[38;5;28;01mtry\u001b[39;00m:\n\u001b[1;32m--> 121\u001b[0m     \u001b[43mresponse\u001b[49m\u001b[38;5;241;43m.\u001b[39;49m\u001b[43mraise_for_status\u001b[49m\u001b[43m(\u001b[49m\u001b[43m)\u001b[49m\n\u001b[0;32m    122\u001b[0m \u001b[38;5;28;01mexcept\u001b[39;00m requests\u001b[38;5;241m.\u001b[39mHTTPError \u001b[38;5;28;01mas\u001b[39;00m e:\n",
      "File \u001b[1;32m~\\anaconda3\\envs\\PytorchCudaEnv\\lib\\site-packages\\requests\\models.py:1024\u001b[0m, in \u001b[0;36mResponse.raise_for_status\u001b[1;34m(self)\u001b[0m\n\u001b[0;32m   1023\u001b[0m \u001b[38;5;28;01mif\u001b[39;00m http_error_msg:\n\u001b[1;32m-> 1024\u001b[0m     \u001b[38;5;28;01mraise\u001b[39;00m HTTPError(http_error_msg, response\u001b[38;5;241m=\u001b[39m\u001b[38;5;28mself\u001b[39m)\n",
      "\u001b[1;31mHTTPError\u001b[0m: 409 Client Error: Conflict for url: https://api.smith.langchain.com/datasets",
      "\nThe above exception was the direct cause of the following exception:\n",
      "\u001b[1;31mHTTPError\u001b[0m                                 Traceback (most recent call last)",
      "File \u001b[1;32m~\\anaconda3\\envs\\PytorchCudaEnv\\lib\\site-packages\\langsmith\\client.py:799\u001b[0m, in \u001b[0;36mClient.request_with_retries\u001b[1;34m(self, method, pathname, request_kwargs, stop_after_attempt, retry_on, to_ignore, handle_response, **kwargs)\u001b[0m\n\u001b[0;32m    789\u001b[0m     response \u001b[38;5;241m=\u001b[39m \u001b[38;5;28mself\u001b[39m\u001b[38;5;241m.\u001b[39msession\u001b[38;5;241m.\u001b[39mrequest(\n\u001b[0;32m    790\u001b[0m         method,\n\u001b[0;32m    791\u001b[0m         (\n\u001b[1;32m   (...)\u001b[0m\n\u001b[0;32m    797\u001b[0m         \u001b[38;5;241m*\u001b[39m\u001b[38;5;241m*\u001b[39mrequest_kwargs,\n\u001b[0;32m    798\u001b[0m     )\n\u001b[1;32m--> 799\u001b[0m \u001b[43mls_utils\u001b[49m\u001b[38;5;241;43m.\u001b[39;49m\u001b[43mraise_for_status_with_text\u001b[49m\u001b[43m(\u001b[49m\u001b[43mresponse\u001b[49m\u001b[43m)\u001b[49m\n\u001b[0;32m    800\u001b[0m \u001b[38;5;28;01mreturn\u001b[39;00m response\n",
      "File \u001b[1;32m~\\anaconda3\\envs\\PytorchCudaEnv\\lib\\site-packages\\langsmith\\utils.py:123\u001b[0m, in \u001b[0;36mraise_for_status_with_text\u001b[1;34m(response)\u001b[0m\n\u001b[0;32m    122\u001b[0m \u001b[38;5;28;01mexcept\u001b[39;00m requests\u001b[38;5;241m.\u001b[39mHTTPError \u001b[38;5;28;01mas\u001b[39;00m e:\n\u001b[1;32m--> 123\u001b[0m     \u001b[38;5;28;01mraise\u001b[39;00m requests\u001b[38;5;241m.\u001b[39mHTTPError(\u001b[38;5;28mstr\u001b[39m(e), response\u001b[38;5;241m.\u001b[39mtext) \u001b[38;5;28;01mfrom\u001b[39;00m \u001b[38;5;21;01me\u001b[39;00m\n",
      "\u001b[1;31mHTTPError\u001b[0m: [Errno 409 Client Error: Conflict for url: https://api.smith.langchain.com/datasets] {\"detail\":\"Dataset with this name already exists.\"}",
      "\nDuring handling of the above exception, another exception occurred:\n",
      "\u001b[1;31mLangSmithConflictError\u001b[0m                    Traceback (most recent call last)",
      "Cell \u001b[1;32mIn[27], line 8\u001b[0m\n\u001b[0;32m      5\u001b[0m client \u001b[38;5;241m=\u001b[39m Client()\n\u001b[0;32m      7\u001b[0m \u001b[38;5;66;03m# Define dataset: these are your test cases\u001b[39;00m\n\u001b[1;32m----> 8\u001b[0m dataset \u001b[38;5;241m=\u001b[39m \u001b[43mclient\u001b[49m\u001b[38;5;241;43m.\u001b[39;49m\u001b[43mcreate_dataset\u001b[49m\u001b[43m(\u001b[49m\u001b[43mdataset_name\u001b[49m\u001b[43m)\u001b[49m\n",
      "File \u001b[1;32m~\\anaconda3\\envs\\PytorchCudaEnv\\lib\\site-packages\\langsmith\\client.py:2422\u001b[0m, in \u001b[0;36mClient.create_dataset\u001b[1;34m(self, dataset_name, description, data_type)\u001b[0m\n\u001b[0;32m   2401\u001b[0m \u001b[38;5;250m\u001b[39m\u001b[38;5;124;03m\"\"\"Create a dataset in the LangSmith API.\u001b[39;00m\n\u001b[0;32m   2402\u001b[0m \n\u001b[0;32m   2403\u001b[0m \u001b[38;5;124;03mParameters\u001b[39;00m\n\u001b[1;32m   (...)\u001b[0m\n\u001b[0;32m   2415\u001b[0m \u001b[38;5;124;03m    The created dataset.\u001b[39;00m\n\u001b[0;32m   2416\u001b[0m \u001b[38;5;124;03m\"\"\"\u001b[39;00m\n\u001b[0;32m   2417\u001b[0m dataset \u001b[38;5;241m=\u001b[39m ls_schemas\u001b[38;5;241m.\u001b[39mDatasetCreate(\n\u001b[0;32m   2418\u001b[0m     name\u001b[38;5;241m=\u001b[39mdataset_name,\n\u001b[0;32m   2419\u001b[0m     description\u001b[38;5;241m=\u001b[39mdescription,\n\u001b[0;32m   2420\u001b[0m     data_type\u001b[38;5;241m=\u001b[39mdata_type,\n\u001b[0;32m   2421\u001b[0m )\n\u001b[1;32m-> 2422\u001b[0m response \u001b[38;5;241m=\u001b[39m \u001b[38;5;28;43mself\u001b[39;49m\u001b[38;5;241;43m.\u001b[39;49m\u001b[43mrequest_with_retries\u001b[49m\u001b[43m(\u001b[49m\n\u001b[0;32m   2423\u001b[0m \u001b[43m    \u001b[49m\u001b[38;5;124;43m\"\u001b[39;49m\u001b[38;5;124;43mPOST\u001b[39;49m\u001b[38;5;124;43m\"\u001b[39;49m\u001b[43m,\u001b[49m\n\u001b[0;32m   2424\u001b[0m \u001b[43m    \u001b[49m\u001b[38;5;124;43m\"\u001b[39;49m\u001b[38;5;124;43m/datasets\u001b[39;49m\u001b[38;5;124;43m\"\u001b[39;49m\u001b[43m,\u001b[49m\n\u001b[0;32m   2425\u001b[0m \u001b[43m    \u001b[49m\u001b[43mheaders\u001b[49m\u001b[38;5;241;43m=\u001b[39;49m\u001b[43m{\u001b[49m\u001b[38;5;241;43m*\u001b[39;49m\u001b[38;5;241;43m*\u001b[39;49m\u001b[38;5;28;43mself\u001b[39;49m\u001b[38;5;241;43m.\u001b[39;49m\u001b[43m_headers\u001b[49m\u001b[43m,\u001b[49m\u001b[43m \u001b[49m\u001b[38;5;124;43m\"\u001b[39;49m\u001b[38;5;124;43mContent-Type\u001b[39;49m\u001b[38;5;124;43m\"\u001b[39;49m\u001b[43m:\u001b[49m\u001b[43m \u001b[49m\u001b[38;5;124;43m\"\u001b[39;49m\u001b[38;5;124;43mapplication/json\u001b[39;49m\u001b[38;5;124;43m\"\u001b[39;49m\u001b[43m}\u001b[49m\u001b[43m,\u001b[49m\n\u001b[0;32m   2426\u001b[0m \u001b[43m    \u001b[49m\u001b[43mdata\u001b[49m\u001b[38;5;241;43m=\u001b[39;49m\u001b[43mdataset\u001b[49m\u001b[38;5;241;43m.\u001b[39;49m\u001b[43mjson\u001b[49m\u001b[43m(\u001b[49m\u001b[43m)\u001b[49m\u001b[43m,\u001b[49m\n\u001b[0;32m   2427\u001b[0m \u001b[43m\u001b[49m\u001b[43m)\u001b[49m\n\u001b[0;32m   2428\u001b[0m ls_utils\u001b[38;5;241m.\u001b[39mraise_for_status_with_text(response)\n\u001b[0;32m   2429\u001b[0m \u001b[38;5;28;01mreturn\u001b[39;00m ls_schemas\u001b[38;5;241m.\u001b[39mDataset(\n\u001b[0;32m   2430\u001b[0m     \u001b[38;5;241m*\u001b[39m\u001b[38;5;241m*\u001b[39mresponse\u001b[38;5;241m.\u001b[39mjson(),\n\u001b[0;32m   2431\u001b[0m     _host_url\u001b[38;5;241m=\u001b[39m\u001b[38;5;28mself\u001b[39m\u001b[38;5;241m.\u001b[39m_host_url,\n\u001b[0;32m   2432\u001b[0m     _tenant_id\u001b[38;5;241m=\u001b[39m\u001b[38;5;28mself\u001b[39m\u001b[38;5;241m.\u001b[39m_get_optional_tenant_id(),\n\u001b[0;32m   2433\u001b[0m )\n",
      "File \u001b[1;32m~\\anaconda3\\envs\\PytorchCudaEnv\\lib\\site-packages\\langsmith\\client.py:835\u001b[0m, in \u001b[0;36mClient.request_with_retries\u001b[1;34m(self, method, pathname, request_kwargs, stop_after_attempt, retry_on, to_ignore, handle_response, **kwargs)\u001b[0m\n\u001b[0;32m    831\u001b[0m     \u001b[38;5;28;01mraise\u001b[39;00m ls_utils\u001b[38;5;241m.\u001b[39mLangSmithNotFoundError(\n\u001b[0;32m    832\u001b[0m         \u001b[38;5;124mf\u001b[39m\u001b[38;5;124m\"\u001b[39m\u001b[38;5;124mResource not found for \u001b[39m\u001b[38;5;132;01m{\u001b[39;00mpathname\u001b[38;5;132;01m}\u001b[39;00m\u001b[38;5;124m. \u001b[39m\u001b[38;5;132;01m{\u001b[39;00m\u001b[38;5;28mrepr\u001b[39m(e)\u001b[38;5;132;01m}\u001b[39;00m\u001b[38;5;124m\"\u001b[39m\n\u001b[0;32m    833\u001b[0m     )\n\u001b[0;32m    834\u001b[0m \u001b[38;5;28;01melif\u001b[39;00m response\u001b[38;5;241m.\u001b[39mstatus_code \u001b[38;5;241m==\u001b[39m \u001b[38;5;241m409\u001b[39m:\n\u001b[1;32m--> 835\u001b[0m     \u001b[38;5;28;01mraise\u001b[39;00m ls_utils\u001b[38;5;241m.\u001b[39mLangSmithConflictError(\n\u001b[0;32m    836\u001b[0m         \u001b[38;5;124mf\u001b[39m\u001b[38;5;124m\"\u001b[39m\u001b[38;5;124mConflict for \u001b[39m\u001b[38;5;132;01m{\u001b[39;00mpathname\u001b[38;5;132;01m}\u001b[39;00m\u001b[38;5;124m. \u001b[39m\u001b[38;5;132;01m{\u001b[39;00m\u001b[38;5;28mrepr\u001b[39m(e)\u001b[38;5;132;01m}\u001b[39;00m\u001b[38;5;124m\"\u001b[39m\n\u001b[0;32m    837\u001b[0m     )\n\u001b[0;32m    838\u001b[0m \u001b[38;5;28;01melse\u001b[39;00m:\n\u001b[0;32m    839\u001b[0m     \u001b[38;5;28;01mraise\u001b[39;00m ls_utils\u001b[38;5;241m.\u001b[39mLangSmithError(\n\u001b[0;32m    840\u001b[0m         \u001b[38;5;124mf\u001b[39m\u001b[38;5;124m\"\u001b[39m\u001b[38;5;124mFailed to \u001b[39m\u001b[38;5;132;01m{\u001b[39;00mmethod\u001b[38;5;132;01m}\u001b[39;00m\u001b[38;5;124m \u001b[39m\u001b[38;5;132;01m{\u001b[39;00mpathname\u001b[38;5;132;01m}\u001b[39;00m\u001b[38;5;124m in LangSmith\u001b[39m\u001b[38;5;124m\"\u001b[39m\n\u001b[0;32m    841\u001b[0m         \u001b[38;5;124mf\u001b[39m\u001b[38;5;124m\"\u001b[39m\u001b[38;5;124m API. \u001b[39m\u001b[38;5;132;01m{\u001b[39;00m\u001b[38;5;28mrepr\u001b[39m(e)\u001b[38;5;132;01m}\u001b[39;00m\u001b[38;5;124m\"\u001b[39m\n\u001b[0;32m    842\u001b[0m     )\n",
      "\u001b[1;31mLangSmithConflictError\u001b[0m: Conflict for /datasets. HTTPError('409 Client Error: Conflict for url: https://api.smith.langchain.com/datasets', '{\"detail\":\"Dataset with this name already exists.\"}')"
     ]
    }
   ],
   "source": [
    "### Dataset name\n",
    "dataset_name = \"Video_Test\"\n",
    "\n",
    "client = Client()\n",
    "\n",
    "# Define dataset: these are your test cases\n",
    "dataset = client.create_dataset(dataset_name)"
   ]
  },
  {
   "cell_type": "code",
   "execution_count": null,
   "id": "fde3e12c-dd3d-4493-9b96-743e74df239c",
   "metadata": {},
   "outputs": [],
   "source": [
    "client.create_examples(\n",
    "    inputs=[\n",
    "        {\"input_question\": \"Hello\"},\n",
    "        {\"input_question\": \"What is the video about?\"},\n",
    "        {\"input_question\": \"What was the last miniature that was released for the Thousand Sons?\"},\n",
    "        {\"input_question\": \"What is the most likely miniature to be released for Imperial Agents?\"},\n",
    "        {\"input_question\": \"What are the Space Wolves units that are less in need of an update?\"},\n",
    "        {\"input_question\": \"What can we expect the Black Templars to get if we are very optimistic?\"},\n",
    "        {\"input_question\": \"What is a common practice from Games Workshop when releasing a new codex?\"},\n",
    "    ],\n",
    "    outputs=[\n",
    "        {\"output_answer\": \"Hello, how can I help you?.\"},\n",
    "        {\"output_answer\": \"The video is about all the Warhammer 40K factions that are still missing a Codex in 10th edition and what novelties will the codexes bring when they are released, focusing on new possible miniatures.\"},\n",
    "        {\"output_answer\": \"The Infernal Master.\"},\n",
    "        {\"output_answer\": \"Inquisitor Coteaz.\"},\n",
    "        {\"output_answer\": \"Wulfen and Thunderwolves.\"},\n",
    "        {\"output_answer\": \"Some themed Terminators.\"},\n",
    "        {\"output_answer\": \"They release at least one miniature, usually one or two characters and often releasing Battleforces.\"},\n",
    "    ],\n",
    "    dataset_id=dataset.id,\n",
    ")"
   ]
  },
  {
   "cell_type": "code",
   "execution_count": 31,
   "id": "ef1f184d-6cae-4dc0-9be4-f67a1a46f6d3",
   "metadata": {},
   "outputs": [],
   "source": [
    "def extract_final_answer(messages):\n",
    "    \"\"\"\n",
    "    Extracts the content of the last AIMessage from the messages.\n",
    "    \n",
    "    Args:\n",
    "    messages (list): List of message dictionaries containing messages from human, AI, and tools.\n",
    "    \n",
    "    Returns:\n",
    "    str: The content of the last AIMessage.\n",
    "    \"\"\"\n",
    "    # Iterate over the messages in reverse order to find the last AIMessage\n",
    "    for message in reversed(messages):\n",
    "        # Check if the message is an instance of AIMessage\n",
    "        if isinstance(message, AIMessage):\n",
    "            return message.content\n",
    "    return ''\n",
    "\n",
    "\n",
    "def predict_rag_answer(example: dict):\n",
    "    #Use this for answer evaluation\n",
    "    query = example[\"input_question\"]\n",
    "    # Format inputs properly\n",
    "    inputs = {\"messages\": [{\"role\": \"user\", \"content\": query}]}\n",
    "    answer = agent.invoke(inputs, config=config, stream_mode=\"values\")\n",
    "    \n",
    "    if 'messages' in answer:\n",
    "        response = extract_final_answer(answer['messages'])\n",
    "    else:\n",
    "        response = \"No valid response found.\"\n",
    "    \n",
    "    return {\"answer\": response}"
   ]
  },
  {
   "cell_type": "code",
   "execution_count": 33,
   "id": "cb528fe5-c4ae-4d4c-a8de-5975171869e3",
   "metadata": {
    "collapsed": true,
    "jupyter": {
     "outputs_hidden": true,
     "source_hidden": true
    }
   },
   "outputs": [
    {
     "data": {
      "text/plain": [
       "'\\n#Implement this if there is time, for evaluating correctly the retrieved documents and hallucinations.\\ndef predict_rag_answer_with_context(example: dict):\\n    #Use this for answer evaluation\\n    query = example[\"input_question\"]\\n    # Format inputs properly\\n    inputs = {\"messages\": [{\"role\": \"user\", \"content\": query}]}\\n    answer = agent.invoke(inputs, config=config, stream_mode=\"values\")\\n    \\n    if \\'messages\\' in answer:\\n        response = extract_final_answer(answer[\\'messages\\'])\\n    else:\\n        response = \"No valid response found.\"\\n    \\n    return {\"answer\": response}\\n'"
      ]
     },
     "execution_count": 33,
     "metadata": {},
     "output_type": "execute_result"
    }
   ],
   "source": [
    "#Implement this if there is time, for evaluating correctly the retrieved documents and hallucinations.\n",
    "\n",
    "\"\"\"\n",
    "#Implement this if there is time, for evaluating correctly the retrieved documents and hallucinations.\n",
    "def predict_rag_answer_with_context(example: dict):\n",
    "    #Use this for answer evaluation\n",
    "    query = example[\"input_question\"]\n",
    "    # Format inputs properly\n",
    "    inputs = {\"messages\": [{\"role\": \"user\", \"content\": query}]}\n",
    "    answer = agent.invoke(inputs, config=config, stream_mode=\"values\")\n",
    "    \n",
    "    if 'messages' in answer:\n",
    "        response = extract_final_answer(answer['messages'])\n",
    "    else:\n",
    "        response = \"No valid response found.\"\n",
    "    \n",
    "    return {\"answer\": response}\n",
    "\"\"\""
   ]
  },
  {
   "cell_type": "markdown",
   "id": "6cbb1a5f-151c-4813-a644-5f0cb71bb296",
   "metadata": {},
   "source": [
    "### Response vs reference answer"
   ]
  },
  {
   "cell_type": "code",
   "execution_count": 77,
   "id": "a5809bb8-e2e1-4351-80d4-acdc86151da3",
   "metadata": {
    "scrolled": true
   },
   "outputs": [],
   "source": [
    "# Grade prompt\n",
    "grade_prompt_answer_accuracy = hub.pull(\"langchain-ai/rag-answer-vs-reference\")\n",
    "\n",
    "def answer_evaluator(run, example) -> dict:\n",
    "    \"\"\"\n",
    "    A simple evaluator for RAG answer accuracy\n",
    "    \"\"\"\n",
    "    # Access example correctly\n",
    "    input_question = example.inputs[\"input_question\"]\n",
    "    reference = example.outputs[\"output_answer\"]\n",
    "    prediction = run.outputs[\"answer\"]\n",
    "\n",
    "    # LLM grader\n",
    "    llm = ChatOpenAI(model=\"gpt-4-turbo\", temperature=0)\n",
    "\n",
    "    # Structured prompt\n",
    "    answer_grader = grade_prompt_answer_accuracy | llm\n",
    "\n",
    "    # Run evaluator\n",
    "    score = answer_grader.invoke({\n",
    "        \"question\": input_question,\n",
    "        \"correct_answer\": reference,\n",
    "        \"student_answer\": prediction\n",
    "    })\n",
    "    score = score[\"Score\"]\n",
    "\n",
    "    return {\"key\": \"answer_v_reference_score\", \"score\": score}"
   ]
  },
  {
   "cell_type": "markdown",
   "id": "5180c3d2-f4bd-40e9-93dc-77ade961b2bd",
   "metadata": {},
   "source": [
    "### Response vs input"
   ]
  },
  {
   "cell_type": "code",
   "execution_count": 78,
   "id": "adc90281-1dbf-4d1e-bb5f-f559f51009ff",
   "metadata": {},
   "outputs": [],
   "source": [
    "# Grade prompt\n",
    "grade_prompt_answer_helpfulness = prompt = hub.pull(\"langchain-ai/rag-answer-helpfulness\")\n",
    "\n",
    "def answer_helpfulness_evaluator(run, example) -> dict:\n",
    "    \"\"\"\n",
    "    A simple evaluator for RAG answer helpfulness\n",
    "    \"\"\"\n",
    "\n",
    "    # Get question, ground truth answer, RAG chain answer\n",
    "    input_question = example.inputs[\"input_question\"]\n",
    "    prediction = run.outputs[\"answer\"]\n",
    "\n",
    "    # LLM grader\n",
    "    llm = ChatOpenAI(model=\"gpt-4-turbo\", temperature=0)\n",
    "\n",
    "    # Structured prompt\n",
    "    answer_grader = grade_prompt_answer_helpfulness | llm\n",
    "\n",
    "    # Run evaluator\n",
    "    score = answer_grader.invoke({\"question\": input_question,\n",
    "                                  \"student_answer\": prediction})\n",
    "    score = score[\"Score\"]\n",
    "\n",
    "    return {\"key\": \"answer_helpfulness_score\", \"score\": score}"
   ]
  },
  {
   "cell_type": "markdown",
   "id": "7da88a4b-e925-4712-a08c-117dc306ce84",
   "metadata": {},
   "source": [
    "### Response vs retrieved docs"
   ]
  },
  {
   "cell_type": "code",
   "execution_count": 79,
   "id": "3a238d6a-fc79-4f06-b7a3-e3d7cc23e979",
   "metadata": {},
   "outputs": [],
   "source": [
    "# Prompt\n",
    "grade_prompt_hallucinations = hub.pull(\"langchain-ai/rag-answer-hallucination\")\n",
    "\n",
    "def answer_hallucination_evaluator(run, example) -> dict:\n",
    "    \"\"\"\n",
    "    A simple evaluator for generation hallucination\n",
    "    \"\"\"\n",
    "\n",
    "    # RAG inputs\n",
    "    input_question = example.inputs[\"input_question\"]\n",
    "    contexts = run.outputs.get(\"contexts\", [])\n",
    "\n",
    "    # RAG answer\n",
    "    prediction = run.outputs.get(\"answer\", \"No valid response found.\")\n",
    "\n",
    "    # LLM grader\n",
    "    llm = ChatOpenAI(model=\"gpt-4-turbo\", temperature=0)\n",
    "\n",
    "    # Structured prompt\n",
    "    answer_grader = grade_prompt_hallucinations | llm\n",
    "\n",
    "    # Get score\n",
    "    score = answer_grader.invoke({\"documents\": contexts,\n",
    "                                  \"student_answer\": prediction})\n",
    "    score = score[\"Score\"]\n",
    "\n",
    "    return {\"key\": \"answer_hallucination\", \"score\": score}\n"
   ]
  },
  {
   "cell_type": "markdown",
   "id": "cb793cf2-9ff1-4f2c-bc1d-d0e81d590a46",
   "metadata": {},
   "source": [
    "### Retrieved docs vs input"
   ]
  },
  {
   "cell_type": "code",
   "execution_count": 80,
   "id": "b61503b2-b1d9-45fa-a766-eefb40694206",
   "metadata": {},
   "outputs": [],
   "source": [
    "# Grade prompt\n",
    "grade_prompt_doc_relevance = hub.pull(\"langchain-ai/rag-document-relevance\")\n",
    "\n",
    "def docs_relevance_evaluator(run, example) -> dict:\n",
    "    \"\"\"\n",
    "    A simple evaluator for document relevance\n",
    "    \"\"\"\n",
    "\n",
    "    # RAG inputs\n",
    "    input_question = example.inputs[\"input_question\"]\n",
    "    contexts = run.outputs.get(\"contexts\", [])\n",
    "\n",
    "    # LLM grader\n",
    "    llm = ChatOpenAI(model=\"gpt-4-turbo\", temperature=0)\n",
    "\n",
    "    # Structured prompt\n",
    "    answer_grader = grade_prompt_doc_relevance | llm\n",
    "\n",
    "    # Get score\n",
    "    score = answer_grader.invoke({\"question\":input_question,\n",
    "                                  \"documents\":contexts})\n",
    "    score = score[\"Score\"]\n",
    "\n",
    "    return {\"key\": \"document_relevance\", \"score\": score}"
   ]
  },
  {
   "cell_type": "markdown",
   "id": "b5153cc1-091e-418c-8fb7-f5d82dfed7d2",
   "metadata": {},
   "source": [
    "## Run evaluators"
   ]
  },
  {
   "cell_type": "code",
   "execution_count": 81,
   "id": "eafc6dc2-3788-4d03-ae06-f4361680c69d",
   "metadata": {},
   "outputs": [
    {
     "name": "stdout",
     "output_type": "stream",
     "text": [
      "View the evaluation results for experiment: 'Full_final_test-fa05f3ce' at:\n",
      "https://smith.langchain.com/o/7a212ba4-5b5a-5574-8675-8c191876cf10/datasets/6c5bcb88-b355-4d61-a3f2-751d1d1fddcd/compare?selectedSessions=90b5d39b-c3fb-4218-9fa8-b70b93b082c1\n",
      "\n",
      "\n"
     ]
    },
    {
     "data": {
      "application/vnd.jupyter.widget-view+json": {
       "model_id": "943688328bab43cb872b4f60f56fed37",
       "version_major": 2,
       "version_minor": 0
      },
      "text/plain": [
       "0it [00:00, ?it/s]"
      ]
     },
     "metadata": {},
     "output_type": "display_data"
    },
    {
     "name": "stderr",
     "output_type": "stream",
     "text": [
      "Number of requested results 4 is greater than number of elements in index 1, updating n_results = 1\n",
      "Number of requested results 4 is greater than number of elements in index 1, updating n_results = 1\n",
      "Number of requested results 4 is greater than number of elements in index 1, updating n_results = 1\n"
     ]
    }
   ],
   "source": [
    "experiment_results = evaluate(\n",
    "    predict_rag_answer,\n",
    "    data=dataset_name,\n",
    "    evaluators=[\n",
    "        answer_evaluator,\n",
    "        answer_helpfulness_evaluator,\n",
    "        answer_hallucination_evaluator,\n",
    "        docs_relevance_evaluator\n",
    "    ],\n",
    "    experiment_prefix=\"Full_final_test\",\n",
    "    metadata={\"version\": \"Video_final_test, ChatMistralAI\"},\n",
    ")"
   ]
  }
 ],
 "metadata": {
  "kernelspec": {
   "display_name": "Python 3 (ipykernel)",
   "language": "python",
   "name": "python3"
  },
  "language_info": {
   "codemirror_mode": {
    "name": "ipython",
    "version": 3
   },
   "file_extension": ".py",
   "mimetype": "text/x-python",
   "name": "python",
   "nbconvert_exporter": "python",
   "pygments_lexer": "ipython3",
   "version": "3.9.19"
  }
 },
 "nbformat": 4,
 "nbformat_minor": 5
}
